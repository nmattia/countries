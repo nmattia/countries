{
 "cells": [
  {
   "cell_type": "code",
   "execution_count": 2,
   "metadata": {
    "slideshow": {
     "slide_type": "-"
    }
   },
   "outputs": [],
   "source": [
    "{-# LANGUAGE OverloadedStrings #-}\n",
    "\n",
    "import Network.Wreq\n",
    "import Data.Aeson.Lens\n",
    "import Control.Lens"
   ]
  },
  {
   "cell_type": "code",
   "execution_count": null,
   "metadata": {},
   "outputs": [],
   "source": [
    "r <- get \"https://api.github.com/search/repositories?q=language:haskell&sort=stars\"\n"
   ]
  },
  {
   "cell_type": "code",
   "execution_count": 9,
   "metadata": {},
   "outputs": [
    {
     "data": {
      "text/plain": [
       "\"jgm/pandoc\"\n",
       "\"begriffs/postgrest\"\n",
       "\"koalaman/shellcheck\"\n",
       "\"purescript/purescript\"\n",
       "\"elm-lang/elm-compiler\""
      ]
     },
     "metadata": {},
     "output_type": "display_data"
    }
   ],
   "source": [
    "\n",
    "print5 = mapM_ print . take 5\n",
    "\n",
    "print5 $ r ^.. responseBody . key \"items\" . values . key \"full_name\" . _String"
   ]
  },
  {
   "cell_type": "code",
   "execution_count": 10,
   "metadata": {},
   "outputs": [],
   "source": [
    "import qualified Data.Text.IO as T\n",
    "\n",
    "geonamesUsername <- T.readFile \".geonames-username\""
   ]
  },
  {
   "cell_type": "code",
   "execution_count": 11,
   "metadata": {},
   "outputs": [],
   "source": [
    "{-# LANGUAGE GeneralizedNewtypeDeriving #-}\n",
    "\n",
    "import Data.String (IsString)\n",
    "import qualified Data.Text as T\n",
    "\n",
    "newtype GithubRepo = GithubRepo { unGithubRepo :: T.Text } deriving (IsString, Show)\n",
    "newtype GithubUser = GithubUser { unGithubUser :: T.Text } deriving (IsString, Show)\n",
    "newtype CountryCode = CountryCode { unCountryCode :: T.Text } deriving (IsString, Show)\n",
    "newtype CountryName = CountryName { unCountryName :: T.Text } deriving (IsString, Show)\n",
    "newtype CountryPopulation = CountryPopulation { unCountryPopulation :: Int } \n",
    "    deriving (Num, Enum, Eq, Ord, Real, Integral, Show)\n",
    "\n",
    "data Country = Country \n",
    "    { countryName :: CountryName\n",
    "    , countryPopulation :: CountryPopulation\n",
    "    } deriving Show"
   ]
  },
  {
   "cell_type": "code",
   "execution_count": 12,
   "metadata": {},
   "outputs": [],
   "source": [
    "import Data.Semigroup\n",
    "\n",
    "githubAPI :: String\n",
    "geonamesAPI :: String\n",
    "\n",
    "githubAPI = \"https://api.github.com\"\n",
    "geonamesAPI = \"http://api.geonames.org\"\n",
    "\n",
    "githubAPISearchRepos :: String\n",
    "githubAPIRepos :: GithubRepo -> String\n",
    "githubAPIUsers :: GithubUser -> String\n",
    "githubAPIRepoContributors :: GithubRepo -> String\n",
    "geonamesAPISearch :: String\n",
    "geonamesAPICountryInfo :: String\n",
    "\n",
    "githubAPISearchRepos = githubAPI <> \"/search/repositories\"\n",
    "githubAPIRepos (GithubRepo repo) = githubAPI <> \"/repos/\" <> T.unpack repo\n",
    "githubAPIUsers (GithubUser user) = githubAPI <> \"/users/\" <> T.unpack user\n",
    "githubAPIRepoContributors repo = githubAPIRepos repo <> \"/contributors\"\n",
    "geonamesAPISearch = geonamesAPI <> \"/searchJSON\"\n",
    "geonamesAPICountryInfo = geonamesAPI <> \"/countryInfoJSON\""
   ]
  },
  {
   "cell_type": "code",
   "execution_count": 13,
   "metadata": {},
   "outputs": [],
   "source": [
    "import Control.Monad\n",
    "\n",
    "geonamesError r = r ^? responseBody . key \"status\" . to show\n",
    "\n",
    "findCountryCode :: T.Text -> IO (Maybe CountryCode)\n",
    "findCountryCode location = do\n",
    "    r <- getWith opts geonamesAPISearch\n",
    "    forM_ (geonamesError r) $ \\e ->\n",
    "        fail (\"At \" <> T.unpack location <> \": \" <> e)\n",
    "    pure $ CountryCode <$> \n",
    "        r ^? responseBody \n",
    "            . key \"geonames\" \n",
    "            . nth 0\n",
    "            . key \"countryCode\"\n",
    "            . _String\n",
    "  where\n",
    "    opts = \n",
    "        defaults \n",
    "            & param \"q\" .~ [location] \n",
    "            & param \"username\" .~ [geonamesUsername]"
   ]
  },
  {
   "cell_type": "code",
   "execution_count": 15,
   "metadata": {},
   "outputs": [
    {
     "data": {
      "text/html": [
       "<style>/* Styles used for the Hoogle display in the pager */\n",
       ".hoogle-doc {\n",
       "display: block;\n",
       "padding-bottom: 1.3em;\n",
       "padding-left: 0.4em;\n",
       "}\n",
       ".hoogle-code {\n",
       "display: block;\n",
       "font-family: monospace;\n",
       "white-space: pre;\n",
       "}\n",
       ".hoogle-text {\n",
       "display: block;\n",
       "}\n",
       ".hoogle-name {\n",
       "color: green;\n",
       "font-weight: bold;\n",
       "}\n",
       ".hoogle-head {\n",
       "font-weight: bold;\n",
       "}\n",
       ".hoogle-sub {\n",
       "display: block;\n",
       "margin-left: 0.4em;\n",
       "}\n",
       ".hoogle-package {\n",
       "font-weight: bold;\n",
       "font-style: italic;\n",
       "}\n",
       ".hoogle-module {\n",
       "font-weight: bold;\n",
       "}\n",
       ".hoogle-class {\n",
       "font-weight: bold;\n",
       "}\n",
       ".get-type {\n",
       "color: green;\n",
       "font-weight: bold;\n",
       "font-family: monospace;\n",
       "display: block;\n",
       "white-space: pre-wrap;\n",
       "}\n",
       ".show-type {\n",
       "color: green;\n",
       "font-weight: bold;\n",
       "font-family: monospace;\n",
       "margin-left: 1em;\n",
       "}\n",
       ".mono {\n",
       "font-family: monospace;\n",
       "display: block;\n",
       "}\n",
       ".err-msg {\n",
       "color: red;\n",
       "font-style: italic;\n",
       "font-family: monospace;\n",
       "white-space: pre;\n",
       "display: block;\n",
       "}\n",
       "#unshowable {\n",
       "color: red;\n",
       "font-weight: bold;\n",
       "}\n",
       ".err-msg.in.collapse {\n",
       "padding-top: 0.7em;\n",
       "}\n",
       ".highlight-code {\n",
       "white-space: pre;\n",
       "font-family: monospace;\n",
       "}\n",
       ".suggestion-warning { \n",
       "font-weight: bold;\n",
       "color: rgb(200, 130, 0);\n",
       "}\n",
       ".suggestion-error { \n",
       "font-weight: bold;\n",
       "color: red;\n",
       "}\n",
       ".suggestion-name {\n",
       "font-weight: bold;\n",
       "}\n",
       "</style><span style='color: green; font-weight: bold;'>Just</span><span style='font-family: monospace;'>CountryCode {unCountryCode = \"CH\"}</span>"
      ],
      "text/plain": [
       "Just (CountryCode {unCountryCode = \"CH\"})"
      ]
     },
     "metadata": {},
     "output_type": "display_data"
    }
   ],
   "source": [
    "findCountryCode \"Schweiz\""
   ]
  },
  {
   "cell_type": "code",
   "execution_count": 16,
   "metadata": {},
   "outputs": [
    {
     "data": {
      "text/html": [
       "<style>/* Styles used for the Hoogle display in the pager */\n",
       ".hoogle-doc {\n",
       "display: block;\n",
       "padding-bottom: 1.3em;\n",
       "padding-left: 0.4em;\n",
       "}\n",
       ".hoogle-code {\n",
       "display: block;\n",
       "font-family: monospace;\n",
       "white-space: pre;\n",
       "}\n",
       ".hoogle-text {\n",
       "display: block;\n",
       "}\n",
       ".hoogle-name {\n",
       "color: green;\n",
       "font-weight: bold;\n",
       "}\n",
       ".hoogle-head {\n",
       "font-weight: bold;\n",
       "}\n",
       ".hoogle-sub {\n",
       "display: block;\n",
       "margin-left: 0.4em;\n",
       "}\n",
       ".hoogle-package {\n",
       "font-weight: bold;\n",
       "font-style: italic;\n",
       "}\n",
       ".hoogle-module {\n",
       "font-weight: bold;\n",
       "}\n",
       ".hoogle-class {\n",
       "font-weight: bold;\n",
       "}\n",
       ".get-type {\n",
       "color: green;\n",
       "font-weight: bold;\n",
       "font-family: monospace;\n",
       "display: block;\n",
       "white-space: pre-wrap;\n",
       "}\n",
       ".show-type {\n",
       "color: green;\n",
       "font-weight: bold;\n",
       "font-family: monospace;\n",
       "margin-left: 1em;\n",
       "}\n",
       ".mono {\n",
       "font-family: monospace;\n",
       "display: block;\n",
       "}\n",
       ".err-msg {\n",
       "color: red;\n",
       "font-style: italic;\n",
       "font-family: monospace;\n",
       "white-space: pre;\n",
       "display: block;\n",
       "}\n",
       "#unshowable {\n",
       "color: red;\n",
       "font-weight: bold;\n",
       "}\n",
       ".err-msg.in.collapse {\n",
       "padding-top: 0.7em;\n",
       "}\n",
       ".highlight-code {\n",
       "white-space: pre;\n",
       "font-family: monospace;\n",
       "}\n",
       ".suggestion-warning { \n",
       "font-weight: bold;\n",
       "color: rgb(200, 130, 0);\n",
       "}\n",
       ".suggestion-error { \n",
       "font-weight: bold;\n",
       "color: red;\n",
       "}\n",
       ".suggestion-name {\n",
       "font-weight: bold;\n",
       "}\n",
       "</style><span style='color: green; font-weight: bold;'>Just</span><span style='font-family: monospace;'>CountryCode {unCountryCode = \"GB\"}</span>"
      ],
      "text/plain": [
       "Just (CountryCode {unCountryCode = \"GB\"})"
      ]
     },
     "metadata": {},
     "output_type": "display_data"
    }
   ],
   "source": [
    "findCountryCode \"England\""
   ]
  },
  {
   "cell_type": "code",
   "execution_count": 14,
   "metadata": {},
   "outputs": [
    {
     "data": {},
     "metadata": {},
     "output_type": "display_data"
    }
   ],
   "source": [
    ":i Country"
   ]
  },
  {
   "cell_type": "code",
   "execution_count": 18,
   "metadata": {},
   "outputs": [],
   "source": [
    "countryByCountryCode :: CountryCode -> IO (Maybe Country)\n",
    "countryByCountryCode (CountryCode code) = do\n",
    "    r <- getWith opts geonamesAPICountryInfo\n",
    "    forM_ (geonamesError r) $ \\e -> \n",
    "        fail (\"At \" <> T.unpack code <> \": \" <> e)\n",
    "    pure $ Country \n",
    "        <$> (fmap CountryName $ r\n",
    "                ^? responseBody \n",
    "                . key \"geonames\" \n",
    "                . nth 0 \n",
    "                . key \"countryName\" \n",
    "                . _String) \n",
    "        <*> (fmap CountryPopulation $ r \n",
    "                ^? responseBody\n",
    "                . key \"geonames\"\n",
    "                . nth 0\n",
    "                . key \"population\"\n",
    "                . _String\n",
    "                . to (read . T.unpack))     \n",
    "  where\n",
    "    opts = \n",
    "      defaults\n",
    "          & param \"country\" .~ [ code ]\n",
    "          & param \"username\" .~ [ geonamesUsername ]"
   ]
  },
  {
   "cell_type": "code",
   "execution_count": 19,
   "metadata": {},
   "outputs": [
    {
     "data": {
      "text/html": [
       "<style>/* Styles used for the Hoogle display in the pager */\n",
       ".hoogle-doc {\n",
       "display: block;\n",
       "padding-bottom: 1.3em;\n",
       "padding-left: 0.4em;\n",
       "}\n",
       ".hoogle-code {\n",
       "display: block;\n",
       "font-family: monospace;\n",
       "white-space: pre;\n",
       "}\n",
       ".hoogle-text {\n",
       "display: block;\n",
       "}\n",
       ".hoogle-name {\n",
       "color: green;\n",
       "font-weight: bold;\n",
       "}\n",
       ".hoogle-head {\n",
       "font-weight: bold;\n",
       "}\n",
       ".hoogle-sub {\n",
       "display: block;\n",
       "margin-left: 0.4em;\n",
       "}\n",
       ".hoogle-package {\n",
       "font-weight: bold;\n",
       "font-style: italic;\n",
       "}\n",
       ".hoogle-module {\n",
       "font-weight: bold;\n",
       "}\n",
       ".hoogle-class {\n",
       "font-weight: bold;\n",
       "}\n",
       ".get-type {\n",
       "color: green;\n",
       "font-weight: bold;\n",
       "font-family: monospace;\n",
       "display: block;\n",
       "white-space: pre-wrap;\n",
       "}\n",
       ".show-type {\n",
       "color: green;\n",
       "font-weight: bold;\n",
       "font-family: monospace;\n",
       "margin-left: 1em;\n",
       "}\n",
       ".mono {\n",
       "font-family: monospace;\n",
       "display: block;\n",
       "}\n",
       ".err-msg {\n",
       "color: red;\n",
       "font-style: italic;\n",
       "font-family: monospace;\n",
       "white-space: pre;\n",
       "display: block;\n",
       "}\n",
       "#unshowable {\n",
       "color: red;\n",
       "font-weight: bold;\n",
       "}\n",
       ".err-msg.in.collapse {\n",
       "padding-top: 0.7em;\n",
       "}\n",
       ".highlight-code {\n",
       "white-space: pre;\n",
       "font-family: monospace;\n",
       "}\n",
       ".suggestion-warning { \n",
       "font-weight: bold;\n",
       "color: rgb(200, 130, 0);\n",
       "}\n",
       ".suggestion-error { \n",
       "font-weight: bold;\n",
       "color: red;\n",
       "}\n",
       ".suggestion-name {\n",
       "font-weight: bold;\n",
       "}\n",
       "</style><span style='color: green; font-weight: bold;'>Just</span><span style='font-family: monospace;'>Country {countryName = CountryName {unCountryName = \"Switzerland\"}, countryPopulation = CountryPopulation {unCountryPopulation = 7581000}}</span>"
      ],
      "text/plain": [
       "Just (Country {countryName = CountryName {unCountryName = \"Switzerland\"}, countryPopulation = CountryPopulation {unCountryPopulation = 7581000}})"
      ]
     },
     "metadata": {},
     "output_type": "display_data"
    }
   ],
   "source": [
    "countryByCountryCode \"CH\""
   ]
  },
  {
   "cell_type": "code",
   "execution_count": 20,
   "metadata": {},
   "outputs": [],
   "source": [
    "import qualified Data.ByteString as BS\n",
    "\n",
    "githubAuth <- oauth2Token <$> BS.readFile \".github-api-token\""
   ]
  },
  {
   "cell_type": "code",
   "execution_count": 21,
   "metadata": {},
   "outputs": [],
   "source": [
    "import Control.Monad.Trans.Maybe\n",
    "\n",
    "githubUserCountry :: GithubUser -> IO (Maybe Country)\n",
    "githubUserCountry user = runMaybeT $ do\n",
    "    location <- MaybeT $ getLocation <$> fetchUser\n",
    "    code <- MaybeT $ findCountryCode location\n",
    "    MaybeT $ countryByCountryCode code\n",
    "  where\n",
    "    fetchUser = getWith opts $ githubAPIUsers user\n",
    "    getLocation r = r ^? responseBody . key \"location\" . _String\n",
    "    opts = defaults & auth ?~ githubAuth"
   ]
  },
  {
   "cell_type": "code",
   "execution_count": 24,
   "metadata": {},
   "outputs": [
    {
     "data": {
      "text/html": [
       "<style>/* Styles used for the Hoogle display in the pager */\n",
       ".hoogle-doc {\n",
       "display: block;\n",
       "padding-bottom: 1.3em;\n",
       "padding-left: 0.4em;\n",
       "}\n",
       ".hoogle-code {\n",
       "display: block;\n",
       "font-family: monospace;\n",
       "white-space: pre;\n",
       "}\n",
       ".hoogle-text {\n",
       "display: block;\n",
       "}\n",
       ".hoogle-name {\n",
       "color: green;\n",
       "font-weight: bold;\n",
       "}\n",
       ".hoogle-head {\n",
       "font-weight: bold;\n",
       "}\n",
       ".hoogle-sub {\n",
       "display: block;\n",
       "margin-left: 0.4em;\n",
       "}\n",
       ".hoogle-package {\n",
       "font-weight: bold;\n",
       "font-style: italic;\n",
       "}\n",
       ".hoogle-module {\n",
       "font-weight: bold;\n",
       "}\n",
       ".hoogle-class {\n",
       "font-weight: bold;\n",
       "}\n",
       ".get-type {\n",
       "color: green;\n",
       "font-weight: bold;\n",
       "font-family: monospace;\n",
       "display: block;\n",
       "white-space: pre-wrap;\n",
       "}\n",
       ".show-type {\n",
       "color: green;\n",
       "font-weight: bold;\n",
       "font-family: monospace;\n",
       "margin-left: 1em;\n",
       "}\n",
       ".mono {\n",
       "font-family: monospace;\n",
       "display: block;\n",
       "}\n",
       ".err-msg {\n",
       "color: red;\n",
       "font-style: italic;\n",
       "font-family: monospace;\n",
       "white-space: pre;\n",
       "display: block;\n",
       "}\n",
       "#unshowable {\n",
       "color: red;\n",
       "font-weight: bold;\n",
       "}\n",
       ".err-msg.in.collapse {\n",
       "padding-top: 0.7em;\n",
       "}\n",
       ".highlight-code {\n",
       "white-space: pre;\n",
       "font-family: monospace;\n",
       "}\n",
       ".suggestion-warning { \n",
       "font-weight: bold;\n",
       "color: rgb(200, 130, 0);\n",
       "}\n",
       ".suggestion-error { \n",
       "font-weight: bold;\n",
       "color: red;\n",
       "}\n",
       ".suggestion-name {\n",
       "font-weight: bold;\n",
       "}\n",
       "</style><span style='color: red; font-weight: bold;'>Nothing</span>"
      ],
      "text/plain": [
       "Nothing"
      ]
     },
     "metadata": {},
     "output_type": "display_data"
    }
   ],
   "source": [
    "githubUserCountry \"aherrmann\""
   ]
  },
  {
   "cell_type": "code",
   "execution_count": 25,
   "metadata": {},
   "outputs": [],
   "source": [
    "{-# LANGUAGE RankNTypes #-}\n",
    "\n",
    "import Data.Conduit\n",
    "import Data.Function (fix)\n",
    "import Data.ByteString.Lens\n",
    "import qualified Data.ByteString.Lazy as BL\n",
    "\n",
    "import Control.Monad.IO.Class (liftIO)\n",
    "import qualified Data.Conduit.Combinators as C\n",
    "\n",
    "getAllWith :: Options -> String -> Producer IO (Response BL.ByteString)\n",
    "getAllWith opts = fix $ \\loop url -> do\n",
    "      r <- liftIO (getWith opts url)\n",
    "      yield r\n",
    "      mapM_ loop $ r ^? responseLink \"rel\" \"next\" . linkURL . unpackedChars\n",
    "        \n",
    "topRepos :: T.Text -> Producer IO GithubRepo   \n",
    "topRepos language = \n",
    "    getAllWith opts githubAPISearchRepos\n",
    "    .| awaitForever (C.yieldMany . fmap GithubRepo . getFullName)\n",
    "  where\n",
    "    getFullName r = \n",
    "      r ^.. responseBody . key \"items\" . values . key \"full_name\" . _String\n",
    "    opts = defaults \n",
    "        & param \"q\" .~ [\"language:\" <> language]\n",
    "        & param \"sort\" .~ [\"stars\"]\n",
    "        & param \"per_page\" .~ [\"100\"]\n",
    "        & auth ?~ githubAuth"
   ]
  },
  {
   "cell_type": "code",
   "execution_count": 27,
   "metadata": {},
   "outputs": [
    {
     "data": {
      "text/plain": [
       "GithubRepo {unGithubRepo = \"jgm/pandoc\"}\n",
       "GithubRepo {unGithubRepo = \"begriffs/postgrest\"}\n",
       "GithubRepo {unGithubRepo = \"koalaman/shellcheck\"}\n",
       "GithubRepo {unGithubRepo = \"purescript/purescript\"}\n",
       "GithubRepo {unGithubRepo = \"elm-lang/elm-compiler\"}"
      ]
     },
     "metadata": {},
     "output_type": "display_data"
    }
   ],
   "source": [
    "topRepos \"haskell\" $$ C.take 5 .| C.mapM_ print"
   ]
  },
  {
   "cell_type": "code",
   "execution_count": 28,
   "metadata": {},
   "outputs": [],
   "source": [
    "repoContributors :: GithubRepo -> Producer IO GithubUser\n",
    "repoContributors repo = \n",
    "    getAllWith opts (githubAPIRepoContributors repo)\n",
    "    .| awaitForever (C.yieldMany . fmap GithubUser . getLogin)\n",
    "  where\n",
    "    getLogin r = r ^.. responseBody .values.key \"login\" . _String\n",
    "    opts = defaults \n",
    "        & param \"per_page\" .~ [\"100\"]\n",
    "        & auth ?~ githubAuth"
   ]
  },
  {
   "cell_type": "code",
   "execution_count": 30,
   "metadata": {},
   "outputs": [
    {
     "data": {
      "text/plain": [
       "GithubUser {unGithubUser = \"jgm\"}\n",
       "GithubUser {unGithubUser = \"jkr\"}\n",
       "GithubUser {unGithubUser = \"tarleb\"}\n",
       "GithubUser {unGithubUser = \"labdsf\"}\n",
       "GithubUser {unGithubUser = \"mpickering\"}\n",
       "GithubUser {unGithubUser = \"mb21\"}\n",
       "GithubUser {unGithubUser = \"lierdakil\"}\n",
       "GithubUser {unGithubUser = \"adunning\"}\n",
       "GithubUser {unGithubUser = \"claremacrae\"}\n",
       "GithubUser {unGithubUser = \"ickc\"}"
      ]
     },
     "metadata": {},
     "output_type": "display_data"
    }
   ],
   "source": [
    "repoContributors \"jgm/pandoc\" $$ C.take 10 .| C.mapM_ print"
   ]
  },
  {
   "cell_type": "code",
   "execution_count": 41,
   "metadata": {},
   "outputs": [
    {
     "data": {
      "text/plain": [
       "GithubUser {unGithubUser = \"jgm\"}"
      ]
     },
     "metadata": {},
     "output_type": "display_data"
    }
   ],
   "source": [
    "topRepos \"haskell\" $$ awaitForever repoContributors .| C.take 1 .| C.mapM_ print"
   ]
  },
  {
   "cell_type": "code",
   "execution_count": 33,
   "metadata": {},
   "outputs": [],
   "source": [
    "{-# LANGUAGE LambdaCase #-}\n",
    "\n",
    "import qualified Data.HashSet as Set\n",
    "import Data.Hashable (Hashable(..))\n",
    "\n",
    "accumulateUniques :: (Eq a, Hashable a) => Int -> Sink a IO (Set.HashSet a)\n",
    "accumulateUniques n = go mempty\n",
    "    where\n",
    "      go acc = await >>= \\case\n",
    "          Just x | Set.size acc < n -> go (Set.insert x acc)\n",
    "          _ -> pure acc    "
   ]
  },
  {
   "cell_type": "code",
   "execution_count": 39,
   "metadata": {},
   "outputs": [
    {
     "data": {
      "text/plain": [
       "fromList [\"baz\",\"foo\",\"bar\"]"
      ]
     },
     "metadata": {},
     "output_type": "display_data"
    }
   ],
   "source": [
    "C.yieldMany [\"foo\", \"baz\", \"baz\", \"bar\", error \"NO!\"] $$ accumulateUniques 3"
   ]
  },
  {
   "cell_type": "code",
   "execution_count": 40,
   "metadata": {},
   "outputs": [],
   "source": [
    "{-# LANGUAGE StandaloneDeriving #-}\n",
    "\n",
    "deriving instance Eq GithubUser\n",
    "deriving instance Hashable GithubUser"
   ]
  },
  {
   "cell_type": "code",
   "execution_count": 42,
   "metadata": {},
   "outputs": [
    {
     "data": {
      "text/plain": [
       "[GithubUser {unGithubUser = \"jkr\"},GithubUser {unGithubUser = \"tarleb\"},GithubUser {unGithubUser = \"jgm\"},GithubUser {unGithubUser = \"mpickering\"},GithubUser {unGithubUser = \"labdsf\"}]"
      ]
     },
     "metadata": {},
     "output_type": "display_data"
    }
   ],
   "source": [
    "users <- topRepos \"haskell\" $$ awaitForever repoContributors .| accumulateUniques 5\n",
    "\n",
    "Set.toList users"
   ]
  },
  {
   "cell_type": "code",
   "execution_count": 43,
   "metadata": {},
   "outputs": [],
   "source": [
    "{-# LANGUAGE DeriveGeneric #-}\n",
    "{-# LANGUAGE ViewPatterns #-}\n",
    "\n",
    "import qualified Data.Aeson as Aeson\n",
    "import GHC.Generics (Generic)\n",
    "import qualified Data.Binary as B\n",
    "import qualified Database.LevelDB as DB\n",
    "import Data.Default\n",
    "import Control.Monad.Trans.Resource\n",
    "\n",
    "deriving instance Generic GithubUser\n",
    "deriving instance Generic Country\n",
    "deriving instance Generic CountryName\n",
    "deriving instance Generic CountryPopulation\n",
    "\n",
    "instance B.Binary GithubUser\n",
    "instance B.Binary CountryName\n",
    "instance B.Binary CountryPopulation\n",
    "instance B.Binary Country\n",
    "\n",
    "cached :: (B.Binary a, B.Binary b) => (a -> IO b) -> ((a -> ResourceT IO b) -> ResourceT IO c) -> IO c\n",
    "cached fetch act = runResourceT $ do\n",
    "    db <- DB.open \".cache\" def {DB.createIfMissing = True}\n",
    "    act $ \\key'@(BL.toStrict . B.encode -> key) -> do\n",
    "        (fmap $ B.decode . BL.fromStrict) <$> DB.get db def key >>= \\case\n",
    "            Just x -> pure x\n",
    "            Nothing -> do\n",
    "                x <- liftIO $ fetch key'\n",
    "                DB.put db def key (BL.toStrict $ B.encode x)\n",
    "                pure x"
   ]
  },
  {
   "cell_type": "code",
   "execution_count": 45,
   "metadata": {},
   "outputs": [
    {
     "data": {
      "text/html": [
       "<style>/* Styles used for the Hoogle display in the pager */\n",
       ".hoogle-doc {\n",
       "display: block;\n",
       "padding-bottom: 1.3em;\n",
       "padding-left: 0.4em;\n",
       "}\n",
       ".hoogle-code {\n",
       "display: block;\n",
       "font-family: monospace;\n",
       "white-space: pre;\n",
       "}\n",
       ".hoogle-text {\n",
       "display: block;\n",
       "}\n",
       ".hoogle-name {\n",
       "color: green;\n",
       "font-weight: bold;\n",
       "}\n",
       ".hoogle-head {\n",
       "font-weight: bold;\n",
       "}\n",
       ".hoogle-sub {\n",
       "display: block;\n",
       "margin-left: 0.4em;\n",
       "}\n",
       ".hoogle-package {\n",
       "font-weight: bold;\n",
       "font-style: italic;\n",
       "}\n",
       ".hoogle-module {\n",
       "font-weight: bold;\n",
       "}\n",
       ".hoogle-class {\n",
       "font-weight: bold;\n",
       "}\n",
       ".get-type {\n",
       "color: green;\n",
       "font-weight: bold;\n",
       "font-family: monospace;\n",
       "display: block;\n",
       "white-space: pre-wrap;\n",
       "}\n",
       ".show-type {\n",
       "color: green;\n",
       "font-weight: bold;\n",
       "font-family: monospace;\n",
       "margin-left: 1em;\n",
       "}\n",
       ".mono {\n",
       "font-family: monospace;\n",
       "display: block;\n",
       "}\n",
       ".err-msg {\n",
       "color: red;\n",
       "font-style: italic;\n",
       "font-family: monospace;\n",
       "white-space: pre;\n",
       "display: block;\n",
       "}\n",
       "#unshowable {\n",
       "color: red;\n",
       "font-weight: bold;\n",
       "}\n",
       ".err-msg.in.collapse {\n",
       "padding-top: 0.7em;\n",
       "}\n",
       ".highlight-code {\n",
       "white-space: pre;\n",
       "font-family: monospace;\n",
       "}\n",
       ".suggestion-warning { \n",
       "font-weight: bold;\n",
       "color: rgb(200, 130, 0);\n",
       "}\n",
       ".suggestion-error { \n",
       "font-weight: bold;\n",
       "color: red;\n",
       "}\n",
       ".suggestion-name {\n",
       "font-weight: bold;\n",
       "}\n",
       "</style><span class='get-type'>githubUserCountry :: GithubUser -> IO (Maybe Country)</span>"
      ],
      "text/plain": [
       "githubUserCountry :: GithubUser -> IO (Maybe Country)"
      ]
     },
     "metadata": {},
     "output_type": "display_data"
    }
   ],
   "source": [
    ":t githubUserCountry"
   ]
  },
  {
   "cell_type": "code",
   "execution_count": 46,
   "metadata": {},
   "outputs": [
    {
     "data": {},
     "metadata": {},
     "output_type": "display_data"
    }
   ],
   "source": [
    ":i Country"
   ]
  },
  {
   "cell_type": "code",
   "execution_count": 44,
   "metadata": {},
   "outputs": [],
   "source": [
    "import qualified Data.HashMap.Strict as Map\n",
    "import Control.Monad\n",
    "\n",
    "deriving instance Eq CountryPopulation\n",
    "deriving instance Eq CountryName\n",
    "deriving instance Eq Country\n",
    "instance Hashable Country where hashWithSalt s = hashWithSalt s . unCountryName . countryName\n",
    "            \n",
    "userCountries :: Set.HashSet GithubUser -> IO (Map.HashMap Country Int)\n",
    "userCountries cs = cached githubUserCountry $ \\githubUserCountry' ->\n",
    "  foldM \n",
    "    (\\m u -> githubUserCountry' u >>= \\case\n",
    "        Nothing -> pure m\n",
    "        Just c -> pure $ Map.insertWith (+) c 1 m    \n",
    "    ) Map.empty (Set.toList cs)"
   ]
  },
  {
   "cell_type": "code",
   "execution_count": 47,
   "metadata": {},
   "outputs": [],
   "source": [
    "import Graphics.Rendering.Chart \n",
    "import Graphics.Rendering.Chart.Backend.Cairo\n",
    "import Data.Default.Class\n",
    "import Control.Lens\n",
    "\n",
    "chart :: String -> [(Country, Double)] -> Renderable ()\n",
    "chart title cs = toRenderable layout \n",
    "  where\n",
    "    layout = pie_title .~ title\n",
    "           $ pie_plot . pie_data .~ map pitem values\n",
    "           $ def\n",
    "    values = take 10\n",
    "           . (ix 0. _3 .~ 20) \n",
    "           . fmap (\\(c, val) -> (T.unpack $ unCountryName $ countryName c, val, 0))\n",
    "            $ cs\n",
    "    pitem (s,v,o) = pitem_value .~ v\n",
    "                  $ pitem_label .~ s\n",
    "                  $ pitem_offset .~ o\n",
    "                  $ def"
   ]
  },
  {
   "cell_type": "code",
   "execution_count": 48,
   "metadata": {},
   "outputs": [],
   "source": [
    "import Data.Bifunctor\n",
    "import Data.List"
   ]
  },
  {
   "cell_type": "code",
   "execution_count": 49,
   "metadata": {},
   "outputs": [
    {
     "data": {
      "text/plain": [
       "Users: 100"
      ]
     },
     "metadata": {},
     "output_type": "display_data"
    },
    {
     "data": {
      "text/plain": [
       "Countries: 22"
      ]
     },
     "metadata": {},
     "output_type": "display_data"
    },
    {
     "data": {
      "image/png": "[encoded data removed]"
     },
     "metadata": {},
     "output_type": "display_data"
    }
   ],
   "source": [
    "let lang = \"haskell\"\n",
    "    title = \"top contributing countries\"\n",
    "\n",
    "users <- topRepos lang $$ awaitForever repoContributors .| accumulateUniques 100\n",
    "    \n",
    "countries <- userCountries users\n",
    "\n",
    "putStrLn $ \"Users: \" <> show (Set.size users)\n",
    "putStrLn $ \"Countries: \" <> show (Map.size countries)\n",
    "\n",
    "chart (lang <> \" - \" <> title) \n",
    "    . sortOn (negate . snd) \n",
    "    . fmap (second fromIntegral)\n",
    "    $ Map.toList countries"
   ]
  },
  {
   "cell_type": "code",
   "execution_count": 51,
   "metadata": {
    "scrolled": true
   },
   "outputs": [
    {
     "data": {
      "text/html": [
       "<style>/* Styles used for the Hoogle display in the pager */\n",
       ".hoogle-doc {\n",
       "display: block;\n",
       "padding-bottom: 1.3em;\n",
       "padding-left: 0.4em;\n",
       "}\n",
       ".hoogle-code {\n",
       "display: block;\n",
       "font-family: monospace;\n",
       "white-space: pre;\n",
       "}\n",
       ".hoogle-text {\n",
       "display: block;\n",
       "}\n",
       ".hoogle-name {\n",
       "color: green;\n",
       "font-weight: bold;\n",
       "}\n",
       ".hoogle-head {\n",
       "font-weight: bold;\n",
       "}\n",
       ".hoogle-sub {\n",
       "display: block;\n",
       "margin-left: 0.4em;\n",
       "}\n",
       ".hoogle-package {\n",
       "font-weight: bold;\n",
       "font-style: italic;\n",
       "}\n",
       ".hoogle-module {\n",
       "font-weight: bold;\n",
       "}\n",
       ".hoogle-class {\n",
       "font-weight: bold;\n",
       "}\n",
       ".get-type {\n",
       "color: green;\n",
       "font-weight: bold;\n",
       "font-family: monospace;\n",
       "display: block;\n",
       "white-space: pre-wrap;\n",
       "}\n",
       ".show-type {\n",
       "color: green;\n",
       "font-weight: bold;\n",
       "font-family: monospace;\n",
       "margin-left: 1em;\n",
       "}\n",
       ".mono {\n",
       "font-family: monospace;\n",
       "display: block;\n",
       "}\n",
       ".err-msg {\n",
       "color: red;\n",
       "font-style: italic;\n",
       "font-family: monospace;\n",
       "white-space: pre;\n",
       "display: block;\n",
       "}\n",
       "#unshowable {\n",
       "color: red;\n",
       "font-weight: bold;\n",
       "}\n",
       ".err-msg.in.collapse {\n",
       "padding-top: 0.7em;\n",
       "}\n",
       ".highlight-code {\n",
       "white-space: pre;\n",
       "font-family: monospace;\n",
       "}\n",
       ".suggestion-warning { \n",
       "font-weight: bold;\n",
       "color: rgb(200, 130, 0);\n",
       "}\n",
       ".suggestion-error { \n",
       "font-weight: bold;\n",
       "color: red;\n",
       "}\n",
       ".suggestion-name {\n",
       "font-weight: bold;\n",
       "}\n",
       "</style><div class=\"suggestion-name\" style=\"clear:both;\">Functor law</div><div class=\"suggestion-row\" style=\"float: left;\"><div class=\"suggestion-warning\">Found:</div><div class=\"highlight-code\" id=\"haskell\">fmap (\\ (c, n) -> (c, n / fromIntegral (countryPopulation c))) .\n",
       "  fmap (second fromIntegral)</div></div><div class=\"suggestion-row\" style=\"float: left;\"><div class=\"suggestion-warning\">Why Not:</div><div class=\"highlight-code\" id=\"haskell\">fmap\n",
       "  ((\\ (c, n) -> (c, n / fromIntegral (countryPopulation c))) .\n",
       "     second fromIntegral)</div></div>"
      ],
      "text/plain": [
       "Line 3: Functor law\n",
       "Found:\n",
       "fmap (\\ (c, n) -> (c, n / fromIntegral (countryPopulation c))) .\n",
       "  fmap (second fromIntegral)\n",
       "Why not:\n",
       "fmap\n",
       "  ((\\ (c, n) -> (c, n / fromIntegral (countryPopulation c))) .\n",
       "     second fromIntegral)"
      ]
     },
     "metadata": {},
     "output_type": "display_data"
    },
    {
     "data": {
      "text/plain": [
       "Users: 3000"
      ]
     },
     "metadata": {},
     "output_type": "display_data"
    },
    {
     "data": {
      "text/plain": [
       "Countries: 74"
      ]
     },
     "metadata": {},
     "output_type": "display_data"
    },
    {
     "data": {
      "image/png": "[encoded data removed]"
     },
     "metadata": {},
     "output_type": "display_data"
    }
   ],
   "source": [
    "let lang = \"haskell\"\n",
    "    title = \"top contributing countries\"\n",
    "\n",
    "users <- topRepos lang $$ awaitForever repoContributors .| accumulateUniques 3000\n",
    "    \n",
    "countries <- userCountries users\n",
    "\n",
    "putStrLn $ \"Users: \" <> show (Set.size users)\n",
    "putStrLn $ \"Countries: \" <> show (Map.size countries)\n",
    "\n",
    "chart (lang <> \" - \" <> title) \n",
    "    . sortOn (negate . snd) \n",
    "    . fmap (\\(c, n) -> (c, n / fromIntegral (countryPopulation c)))\n",
    "    . filter  ((> 1000000) fromIntegral)\n",
    "\n",
    "    . fmap (second fromIntegral)\n",
    "    $ Map.toList countries"
   ]
  },
  {
   "cell_type": "code",
   "execution_count": 52,
   "metadata": {},
   "outputs": [
    {
     "data": {
      "image/png": "[encoded data removed]"
     },
     "metadata": {},
     "output_type": "display_data"
    }
   ],
   "source": [
    "chart (lang <> \" - \" <> title) \n",
    "    . sortOn (negate . snd) \n",
    "    . fmap (\\(c, n) -> (c, n / fromIntegral (countryPopulation c)))\n",
    "    . filter  ((> 1000000) . countryPopulation . fst)\n",
    "\n",
    "    . fmap (second fromIntegral)\n",
    "    $ Map.toList countries"
   ]
  }
 ],
 "metadata": {
  "kernelspec": {
   "display_name": "Haskell",
   "language": "haskell",
   "name": "haskell"
  },
  "language_info": {
   "codemirror_mode": "ihaskell",
   "file_extension": ".hs",
   "name": "haskell",
   "version": "8.2.2"
  }
 },
 "nbformat": 4,
 "nbformat_minor": 2
}
