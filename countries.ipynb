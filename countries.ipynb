{
 "cells": [
  {
   "cell_type": "code",
   "execution_count": 1,
   "metadata": {
    "slideshow": {
     "slide_type": "-"
    }
   },
   "outputs": [],
   "source": [
    "{-# LANGUAGE OverloadedStrings #-}\n",
    "\n",
    "import Network.Wreq\n",
    "import Data.Aeson.Lens\n",
    "import Control.Lens"
   ]
  },
  {
   "cell_type": "code",
   "execution_count": 2,
   "metadata": {},
   "outputs": [],
   "source": [
    "import qualified Data.Text.IO as T\n",
    "\n",
    "geonamesUsername <- T.readFile \".geonames-username\""
   ]
  },
  {
   "cell_type": "code",
   "execution_count": 3,
   "metadata": {},
   "outputs": [],
   "source": [
    "{-# LANGUAGE GeneralizedNewtypeDeriving #-}\n",
    "\n",
    "import Data.String (IsString)\n",
    "import qualified Data.Text as T\n",
    "\n",
    "newtype GithubRepo = GithubRepo { unGithubRepo :: T.Text } deriving (IsString, Show)\n",
    "newtype GithubUser = GithubUser { unGithubUser :: T.Text } deriving (IsString, Show)\n",
    "newtype CountryCode = CountryCode { unCountryCode :: T.Text } deriving (IsString, Show)\n",
    "newtype CountryName = CountryName { unCountryName :: T.Text } deriving (IsString, Show)\n",
    "newtype CountryPopulation = CountryPopulation { unCountryPopulation :: Int } \n",
    "    deriving (Num, Enum, Eq, Ord, Real, Integral, Show)\n",
    "\n",
    "data Country = Country \n",
    "    { countryName :: CountryName\n",
    "    , countryPopulation :: CountryPopulation\n",
    "    } deriving Show"
   ]
  },
  {
   "cell_type": "code",
   "execution_count": 4,
   "metadata": {},
   "outputs": [],
   "source": [
    "import Data.Semigroup\n",
    "\n",
    "githubAPI :: String\n",
    "geonamesAPI :: String\n",
    "\n",
    "githubAPI = \"https://api.github.com\"\n",
    "geonamesAPI = \"http://api.geonames.org\"\n",
    "\n",
    "githubAPISearchRepos :: String\n",
    "githubAPIRepos :: GithubRepo -> String\n",
    "githubAPIUsers :: GithubUser -> String\n",
    "githubAPIRepoContributors :: GithubRepo -> String\n",
    "geonamesAPISearch :: String\n",
    "geonamesAPICountryInfo :: String\n",
    "\n",
    "githubAPISearchRepos = githubAPI <> \"/search/repositories\"\n",
    "githubAPIRepos (GithubRepo repo) = githubAPI <> \"/repos/\" <> T.unpack repo\n",
    "githubAPIUsers (GithubUser user) = githubAPI <> \"/users/\" <> T.unpack user\n",
    "githubAPIRepoContributors repo = githubAPIRepos repo <> \"/contributors\"\n",
    "geonamesAPISearch = geonamesAPI <> \"/searchJSON\"\n",
    "geonamesAPICountryInfo = geonamesAPI <> \"/countryInfoJSON\""
   ]
  },
  {
   "cell_type": "code",
   "execution_count": 5,
   "metadata": {},
   "outputs": [],
   "source": [
    "import Control.Monad\n",
    "\n",
    "geonamesError r = r ^? responseBody . key \"status\" . to show\n",
    "\n",
    "findCountryCode :: T.Text -> IO (Maybe CountryCode)\n",
    "findCountryCode location = do\n",
    "    r <- getWith opts geonamesAPISearch\n",
    "    forM_ (geonamesError r) $ \\e ->\n",
    "        fail (\"At \" <> T.unpack location <> \": \" <> e)\n",
    "    pure $ CountryCode <$> \n",
    "        r ^? responseBody \n",
    "            . key \"geonames\" \n",
    "            . nth 0\n",
    "            . key \"countryCode\"\n",
    "            . _String\n",
    "  where\n",
    "    opts = \n",
    "        defaults \n",
    "            & param \"q\" .~ [location] \n",
    "            & param \"username\" .~ [geonamesUsername]"
   ]
  },
  {
   "cell_type": "code",
   "execution_count": 6,
   "metadata": {},
   "outputs": [],
   "source": [
    "countryByCountryCode :: CountryCode -> IO (Maybe Country)\n",
    "countryByCountryCode (CountryCode code) = do\n",
    "    r <- getWith opts geonamesAPICountryInfo\n",
    "    forM_ (geonamesError r) $ \\e -> \n",
    "        fail (\"At \" <> T.unpack code <> \": \" <> e)\n",
    "    pure $ Country \n",
    "        <$> (fmap CountryName $ r\n",
    "                ^? responseBody \n",
    "                . key \"geonames\" \n",
    "                . nth 0 \n",
    "                . key \"countryName\" \n",
    "                . _String) \n",
    "        <*> (fmap CountryPopulation $ r \n",
    "                ^? responseBody\n",
    "                . key \"geonames\"\n",
    "                . nth 0\n",
    "                . key \"population\"\n",
    "                . _String\n",
    "                . to (read . T.unpack))     \n",
    "  where\n",
    "    opts = \n",
    "      defaults\n",
    "          & param \"country\" .~ [ code ]\n",
    "          & param \"username\" .~ [ geonamesUsername ]"
   ]
  },
  {
   "cell_type": "code",
   "execution_count": 7,
   "metadata": {},
   "outputs": [],
   "source": [
    "import qualified Data.ByteString as BS\n",
    "\n",
    "githubAuth <- oauth2Token <$> BS.readFile \".github-api-token\""
   ]
  },
  {
   "cell_type": "code",
   "execution_count": 8,
   "metadata": {},
   "outputs": [],
   "source": [
    "import Control.Monad.Trans.Maybe\n",
    "\n",
    "githubUserCountry :: GithubUser -> IO (Maybe Country)\n",
    "githubUserCountry user = runMaybeT $ do\n",
    "    location <- MaybeT $ getLocation <$> fetchUser\n",
    "    code <- MaybeT $ findCountryCode location\n",
    "    MaybeT $ countryByCountryCode code\n",
    "  where\n",
    "    fetchUser = getWith opts $ githubAPIUsers user\n",
    "    getLocation r = r ^? responseBody . key \"location\" . _String\n",
    "    opts = defaults & auth ?~ githubAuth"
   ]
  },
  {
   "cell_type": "code",
   "execution_count": 9,
   "metadata": {},
   "outputs": [],
   "source": [
    "{-# LANGUAGE RankNTypes #-}\n",
    "\n",
    "import Data.Conduit\n",
    "import Data.Function (fix)\n",
    "import Data.ByteString.Lens\n",
    "import qualified Data.ByteString.Lazy as BL\n",
    "\n",
    "import Control.Monad.IO.Class (liftIO)\n",
    "import qualified Data.Conduit.Combinators as C\n",
    "\n",
    "getAllWith :: Options -> String -> Producer IO (Response BL.ByteString)\n",
    "getAllWith opts = fix $ \\loop url -> do\n",
    "      r <- liftIO (getWith opts url)\n",
    "      yield r\n",
    "      mapM_ loop $ r ^? responseLink \"rel\" \"next\" . linkURL . unpackedChars\n",
    "        \n",
    "topRepos :: T.Text -> Producer IO GithubRepo   \n",
    "topRepos language = \n",
    "    getAllWith opts githubAPISearchRepos\n",
    "    .| awaitForever (C.yieldMany . fmap GithubRepo . getFullName)\n",
    "  where\n",
    "    getFullName r = \n",
    "      r ^.. responseBody . key \"items\" . values . key \"full_name\" . _String\n",
    "    opts = defaults \n",
    "        & param \"q\" .~ [\"language:\" <> language]\n",
    "        & param \"sort\" .~ [\"stars\"]\n",
    "        & param \"per_page\" .~ [\"100\"]\n",
    "        & auth ?~ githubAuth"
   ]
  },
  {
   "cell_type": "code",
   "execution_count": 10,
   "metadata": {},
   "outputs": [],
   "source": [
    "repoContributors :: GithubRepo -> Producer IO GithubUser\n",
    "repoContributors repo = \n",
    "    getAllWith opts (githubAPIRepoContributors repo)\n",
    "    .| awaitForever (C.yieldMany . fmap GithubUser . getLogin)\n",
    "  where\n",
    "    getLogin r = r ^.. responseBody .values.key \"login\" . _String\n",
    "    opts = defaults \n",
    "        & param \"per_page\" .~ [\"100\"]\n",
    "        & auth ?~ githubAuth"
   ]
  },
  {
   "cell_type": "code",
   "execution_count": 11,
   "metadata": {},
   "outputs": [],
   "source": [
    "{-# LANGUAGE LambdaCase #-}\n",
    "\n",
    "import qualified Data.HashSet as Set\n",
    "import Data.Hashable (Hashable(..))\n",
    "\n",
    "accumulateUniques :: (Eq a, Hashable a) => Int -> Sink a IO (Set.HashSet a)\n",
    "accumulateUniques n = go mempty\n",
    "    where\n",
    "      go acc = await >>= \\case\n",
    "          Just x | Set.size acc < n -> go (Set.insert x acc)\n",
    "          _ -> pure acc    "
   ]
  },
  {
   "cell_type": "code",
   "execution_count": 12,
   "metadata": {},
   "outputs": [],
   "source": [
    "{-# LANGUAGE StandaloneDeriving #-}\n",
    "\n",
    "deriving instance Eq GithubUser\n",
    "deriving instance Hashable GithubUser"
   ]
  },
  {
   "cell_type": "code",
   "execution_count": 13,
   "metadata": {},
   "outputs": [],
   "source": [
    "{-# LANGUAGE DeriveGeneric #-}\n",
    "{-# LANGUAGE ViewPatterns #-}\n",
    "\n",
    "import qualified Data.Aeson as Aeson\n",
    "import GHC.Generics (Generic)\n",
    "import qualified Data.Binary as B\n",
    "import qualified Database.LevelDB as DB\n",
    "import Data.Default\n",
    "import Control.Monad.Trans.Resource\n",
    "\n",
    "deriving instance Generic GithubUser\n",
    "deriving instance Generic Country\n",
    "deriving instance Generic CountryName\n",
    "deriving instance Generic CountryPopulation\n",
    "\n",
    "instance B.Binary GithubUser\n",
    "instance B.Binary CountryName\n",
    "instance B.Binary CountryPopulation\n",
    "instance B.Binary Country\n",
    "\n",
    "cached :: (B.Binary a, B.Binary b) => (a -> IO b) -> ((a -> ResourceT IO b) -> ResourceT IO c) -> IO c\n",
    "cached fetch act = runResourceT $ do\n",
    "    db <- DB.open \".cache\" def {DB.createIfMissing = True}\n",
    "    act $ \\key'@(BL.toStrict . B.encode -> key) -> do\n",
    "        (fmap $ B.decode . BL.fromStrict) <$> DB.get db def key >>= \\case\n",
    "            Just x -> pure x\n",
    "            Nothing -> do\n",
    "                x <- liftIO $ fetch key'\n",
    "                DB.put db def key (BL.toStrict $ B.encode x)\n",
    "                pure x"
   ]
  },
  {
   "cell_type": "code",
   "execution_count": 14,
   "metadata": {},
   "outputs": [],
   "source": [
    "import qualified Data.HashMap.Strict as Map\n",
    "import Control.Monad\n",
    "\n",
    "deriving instance Eq CountryPopulation\n",
    "deriving instance Eq CountryName\n",
    "deriving instance Eq Country\n",
    "instance Hashable Country where hashWithSalt s = hashWithSalt s . unCountryName . countryName\n",
    "            \n",
    "userCountries :: Set.HashSet GithubUser -> IO (Map.HashMap Country Int)\n",
    "userCountries cs = cached githubUserCountry $ \\githubUserCountry' ->\n",
    "  foldM \n",
    "    (\\m u -> githubUserCountry' u >>= \\case\n",
    "        Nothing -> pure m\n",
    "        Just c -> pure $ Map.insertWith (+) c 1 m    \n",
    "    ) Map.empty (Set.toList cs)"
   ]
  },
  {
   "cell_type": "code",
   "execution_count": 15,
   "metadata": {},
   "outputs": [],
   "source": [
    "import Graphics.Rendering.Chart \n",
    "import Graphics.Rendering.Chart.Backend.Cairo\n",
    "import Data.Default.Class\n",
    "import Control.Lens\n",
    "\n",
    "chart :: String -> [(Country, Double)] -> Renderable ()\n",
    "chart title cs = toRenderable layout \n",
    "  where\n",
    "    layout = pie_title .~ title\n",
    "           $ pie_plot . pie_data .~ map pitem values\n",
    "           $ def\n",
    "    values = take 10\n",
    "           . (ix 0. _3 .~ 20) \n",
    "           . fmap (\\(c, val) -> (T.unpack $ unCountryName $ countryName c, val, 0))\n",
    "            $ cs\n",
    "    pitem (s,v,o) = pitem_value .~ v\n",
    "                  $ pitem_label .~ s\n",
    "                  $ pitem_offset .~ o\n",
    "                  $ def"
   ]
  },
  {
   "cell_type": "code",
   "execution_count": 16,
   "metadata": {},
   "outputs": [],
   "source": [
    "import Data.Bifunctor\n",
    "import Data.List"
   ]
  },
  {
   "cell_type": "code",
   "execution_count": 17,
   "metadata": {},
   "outputs": [
    {
     "data": {
      "text/plain": [
       "Users: 100"
      ]
     },
     "metadata": {},
     "output_type": "display_data"
    },
    {
     "data": {
      "text/plain": [
       "Countries: 22"
      ]
     },
     "metadata": {},
     "output_type": "display_data"
    },
    {
     "data": {
      "image/png": "[encoded data removed]"
     },
     "metadata": {},
     "output_type": "display_data"
    }
   ],
   "source": [
    "let lang = \"haskell\"\n",
    "    title = \"top contributing countries\"\n",
    "\n",
    "users <- topRepos lang $$ awaitForever repoContributors .| accumulateUniques 100\n",
    "    \n",
    "countries <- userCountries users\n",
    "\n",
    "putStrLn $ \"Users: \" <> show (Set.size users)\n",
    "putStrLn $ \"Countries: \" <> show (Map.size countries)\n",
    "\n",
    "chart (lang <> \" - \" <> title) \n",
    "    . sortOn (negate . snd) \n",
    "    . fmap (second fromIntegral)\n",
    "    $ Map.toList countries"
   ]
  }
 ],
 "metadata": {
  "kernelspec": {
   "display_name": "Haskell",
   "language": "haskell",
   "name": "haskell"
  },
  "language_info": {
   "codemirror_mode": "ihaskell",
   "file_extension": ".hs",
   "name": "haskell",
   "version": "8.2.2"
  }
 },
 "nbformat": 4,
 "nbformat_minor": 2
}
