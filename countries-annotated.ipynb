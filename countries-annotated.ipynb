{
 "cells": [
  {
   "cell_type": "code",
   "execution_count": 4,
   "metadata": {},
   "outputs": [],
   "source": [
    "{-# LANGUAGE DerivingStrategies #-}\n",
    "{-# LANGUAGE GeneralizedNewtypeDeriving #-}\n",
    "{-# LANGUAGE FlexibleInstances #-}\n",
    "\n",
    "module CIO where\n",
    "\n",
    "import Control.Monad.Reader\n",
    "import IHaskell.Display as IHaskell\n",
    "import IHaskell.Types as Types\n",
    "import qualified Database.LevelDB as DB\n",
    "import qualified Data.HashMap.Strict as Map\n",
    "import qualified Data.HashSet as Set\n",
    "import Control.Monad.Trans.Resource\n",
    "import Data.Default\n",
    "\n",
    "newtype CIO a = CIO { unCIO :: ReaderT DB.DB (ResourceT IO) a }\n",
    "    deriving newtype (Functor, Applicative, Monad, MonadReader DB.DB, MonadIO)\n",
    "    \n",
    "runCIO :: CIO a -> IO a\n",
    "runCIO (CIO io) = runResourceT $ do\n",
    "    db <- DB.open \".cache\" def {DB.createIfMissing = True}\n",
    "    runReaderT io db\n",
    "\n",
    "instance {-# OVERLAPPING #-} Show a => IHaskell.IHaskellDisplay (CIO [a]) where\n",
    "    display cio = do\n",
    "        res <- runCIO cio\n",
    "        pure $ IHaskell.ManyDisplay $ (\\x -> IHaskell.Display [IHaskell.plain $ show x]) <$> res    \n",
    "        \n",
    "instance {-# OVERLAPPING #-} Show a => IHaskell.IHaskellDisplay (CIO (Set.HashSet a)) where\n",
    "    display = display . fmap Set.toList\n",
    "instance {-# OVERLAPPING #-} (Show k, Show a) => IHaskell.IHaskellDisplay (CIO (Map.HashMap k a)) where\n",
    "    display = display . fmap Map.toList\n",
    "\n",
    "instance Show a => IHaskell.IHaskellDisplay (CIO a) where\n",
    "    display cio = do\n",
    "        res <- runCIO cio\n",
    "        pure $ IHaskell.Display [IHaskell.plain $ show res]\n"
   ]
  },
  {
   "cell_type": "code",
   "execution_count": 5,
   "metadata": {},
   "outputs": [],
   "source": [
    "{-# LANGUAGE LambdaCase #-}\n",
    "{-# LANGUAGE TemplateHaskell #-}\n",
    "{-# LANGUAGE DeriveGeneric #-}\n",
    "{-# LANGUAGE RankNTypes #-}\n",
    "{-# LANGUAGE OverloadedStrings #-}\n",
    "\n",
    "\n",
    "import qualified Crypto.Hash.SHA256 as SHA256\n",
    "import qualified Data.Binary as B\n",
    "import Control.Monad.Reader\n",
    "import GHC.Generics (Generic)\n",
    "import Data.ByteString.Lens\n",
    "import qualified Data.ByteString.Char8 as BS8\n",
    "import qualified Database.LevelDB as DB\n",
    "import qualified Data.ByteString.Lazy as BL\n",
    "import Data.Conduit\n",
    "import Data.Default\n",
    "import Control.Lens\n",
    "import Network.Wreq hiding (getWith, get, responseLink, Response, responseBody)\n",
    "import qualified Network.Wreq as Wreq\n",
    "import Data.Aeson.Lens\n",
    "\n",
    "\n",
    "data Response = Response \n",
    "    { _responseLink :: Maybe String\n",
    "    , _responseBody :: BL.ByteString }\n",
    "    deriving (Generic, Show)\n",
    "    \n",
    "instance B.Binary Response\n",
    "    \n",
    "makeLenses ''Response\n",
    "\n",
    "getWith :: Options -> String -> CIO Response\n",
    "getWith opts url = do\n",
    "    db <- ask\n",
    "    DB.get db def key >>= \\case\n",
    "        Just resp -> pure $ B.decode $ BL.fromStrict resp\n",
    "        Nothing -> do\n",
    "            x <- liftIO $ Wreq.getWith opts url\n",
    "            let resp = Response \n",
    "                    { _responseBody = (x^.Wreq.responseBody) \n",
    "                    , _responseLink = (x^?Wreq.responseLink \"rel\" \"next\".linkURL.unpackedChars)\n",
    "                    }\n",
    "            DB.put db def key (BL.toStrict $ B.encode resp)\n",
    "            pure resp\n",
    "  where\n",
    "    key = SHA256.hash (BS8.pack $ show (opts, url))\n",
    "    \n",
    "getAllWith :: Options -> String -> Producer CIO Response\n",
    "getAllWith = fix $ \\loop opts url -> do\n",
    "    resp <- lift $ getWith opts url\n",
    "    yield resp\n",
    "    mapM_ (loop (opts&params.~[])) (_responseLink resp)"
   ]
  },
  {
   "cell_type": "code",
   "execution_count": 6,
   "metadata": {},
   "outputs": [
    {
     "data": {
      "text/plain": [
       "\"jgm/pandoc\"\n",
       "\"koalaman/shellcheck\"\n",
       "\"PostgREST/postgrest\"\n",
       "\"purescript/purescript\"\n",
       "\"elm/compiler\""
      ]
     },
     "metadata": {},
     "output_type": "display_data"
    }
   ],
   "source": [
    "print5 = mapM_ print . take 5\n",
    "\n",
    "r <- Wreq.get \"https://api.github.com/search/repositories?q=language:haskell&sort=stars\"\n",
    "\n",
    "print5 $ r ^.. Wreq.responseBody . key \"items\" . values . key \"full_name\" . _String"
   ]
  },
  {
   "cell_type": "code",
   "execution_count": 7,
   "metadata": {},
   "outputs": [
    {
     "data": {
      "text/plain": [
       "\"jgm\"\n",
       "\"jkr\"\n",
       "\"tarleb\"\n",
       "\"labdsf\"\n",
       "\"mpickering\""
      ]
     },
     "metadata": {},
     "output_type": "display_data"
    }
   ],
   "source": [
    "r <- Wreq.get \"https://api.github.com/repos/jgm/pandoc/contributors\" -- COPY from slide\n",
    "print5 $ r ^.. Wreq.responseBody . values .  key \"login\" . _String"
   ]
  },
  {
   "cell_type": "code",
   "execution_count": 8,
   "metadata": {},
   "outputs": [
    {
     "data": {
      "text/plain": [
       "\"Berkeley, CA\""
      ]
     },
     "metadata": {},
     "output_type": "display_data"
    }
   ],
   "source": [
    "r <- Wreq.get \"https://api.github.com/users/jgm\" -- COPY from slide\n",
    "r ^. Wreq.responseBody . key \"location\" . _String"
   ]
  },
  {
   "cell_type": "code",
   "execution_count": 9,
   "metadata": {},
   "outputs": [],
   "source": [
    "import qualified Data.Text.IO as T\n",
    "\n",
    "geonamesUsername <- T.readFile \".geonames-username\""
   ]
  },
  {
   "cell_type": "code",
   "execution_count": 10,
   "metadata": {},
   "outputs": [
    {
     "data": {
      "text/plain": [
       "\"US\""
      ]
     },
     "metadata": {},
     "output_type": "display_data"
    }
   ],
   "source": [
    "r <- runCIO $ getWith\n",
    "    (defaults & param \"username\" .~ [geonamesUsername] & param \"q\" .~ [\"Berkeley, CA\"])\n",
    "    \"http://api.geonames.org/searchJSON\"\n",
    "r ^. responseBody . key \"geonames\" . nth 0 . key \"countryCode\" . _String"
   ]
  },
  {
   "cell_type": "code",
   "execution_count": 11,
   "metadata": {},
   "outputs": [
    {
     "data": {
      "text/plain": [
       "\"United States\""
      ]
     },
     "metadata": {},
     "output_type": "display_data"
    },
    {
     "data": {
      "text/plain": [
       "\"310232863\""
      ]
     },
     "metadata": {},
     "output_type": "display_data"
    }
   ],
   "source": [
    "r <- runCIO $ getWith (defaults & param \"username\" .~ [geonamesUsername] & param \"country\" .~ [\"US\"]) \n",
    "    \"http://api.geonames.org/countryInfoJSON\"\n",
    "r ^. responseBody . key \"geonames\" . nth 0 . key \"countryName\" . _String\n",
    "r ^. responseBody . key \"geonames\" . nth 0 . key \"population\" . _String"
   ]
  },
  {
   "cell_type": "code",
   "execution_count": 12,
   "metadata": {},
   "outputs": [
    {
     "data": {
      "text/plain": [
       "4"
      ]
     },
     "metadata": {},
     "output_type": "display_data"
    }
   ],
   "source": [
    "pure 4 :: CIO Int"
   ]
  },
  {
   "cell_type": "code",
   "execution_count": 13,
   "metadata": {},
   "outputs": [],
   "source": [
    "{-# LANGUAGE GeneralizedNewtypeDeriving #-}\n",
    "\n",
    "import Data.String (IsString)\n",
    "import qualified Data.Text as T\n",
    "\n",
    "newtype GithubRepo = GithubRepo { unGithubRepo :: T.Text } deriving (IsString, Show)\n",
    "newtype GithubUser = GithubUser { unGithubUser :: T.Text } deriving (IsString, Show)\n",
    "newtype CountryCode = CountryCode { unCountryCode :: T.Text } deriving (IsString, Show)\n",
    "newtype CountryName = CountryName { unCountryName :: T.Text } deriving (IsString, Show)\n",
    "newtype CountryPopulation = CountryPopulation { unCountryPopulation :: Int } \n",
    "    deriving (Num, Enum, Eq, Ord, Real, Integral, Show)\n",
    "\n",
    "data Country = Country \n",
    "    { countryName :: CountryName\n",
    "    , countryPopulation :: CountryPopulation\n",
    "    } deriving Show"
   ]
  },
  {
   "cell_type": "code",
   "execution_count": 14,
   "metadata": {},
   "outputs": [],
   "source": [
    "import Data.Semigroup\n",
    "\n",
    "githubAPI :: String\n",
    "geonamesAPI :: String\n",
    "\n",
    "githubAPI = \"https://api.github.com\"\n",
    "geonamesAPI = \"http://api.geonames.org\"\n",
    "\n",
    "githubAPISearchRepos :: String\n",
    "githubAPIRepos :: GithubRepo -> String\n",
    "githubAPIUsers :: GithubUser -> String\n",
    "githubAPIRepoContributors :: GithubRepo -> String\n",
    "geonamesAPISearch :: String\n",
    "geonamesAPICountryInfo :: String\n",
    "\n",
    "githubAPISearchRepos = githubAPI <> \"/search/repositories\"\n",
    "githubAPIRepos (GithubRepo repo) = githubAPI <> \"/repos/\" <> T.unpack repo\n",
    "githubAPIUsers (GithubUser user) = githubAPI <> \"/users/\" <> T.unpack user\n",
    "githubAPIRepoContributors repo = githubAPIRepos repo <> \"/contributors\"\n",
    "geonamesAPISearch = geonamesAPI <> \"/searchJSON\"\n",
    "geonamesAPICountryInfo = geonamesAPI <> \"/countryInfoJSON\""
   ]
  },
  {
   "cell_type": "code",
   "execution_count": 15,
   "metadata": {},
   "outputs": [],
   "source": [
    "import Control.Monad\n",
    "\n",
    "geonamesError r = r ^? responseBody . key \"status\" . to show\n",
    "\n",
    "findCountryCode :: T.Text -> CIO (Maybe CountryCode)\n",
    "findCountryCode location = do\n",
    "    r <- getWith opts geonamesAPISearch\n",
    "    forM_ (geonamesError r) $ \\e ->\n",
    "        fail (\"At \" <> T.unpack location <> \": \" <> e)\n",
    "    pure $ CountryCode <$> \n",
    "        r ^? responseBody \n",
    "            . key \"geonames\" \n",
    "            . nth 0\n",
    "            . key \"countryCode\"\n",
    "            . _String\n",
    "  where\n",
    "    opts = \n",
    "        defaults \n",
    "            & param \"q\" .~ [location] \n",
    "            & param \"username\" .~ [geonamesUsername]"
   ]
  },
  {
   "cell_type": "code",
   "execution_count": 16,
   "metadata": {},
   "outputs": [
    {
     "data": {
      "text/plain": [
       "Just (CountryCode {unCountryCode = \"US\"})"
      ]
     },
     "metadata": {},
     "output_type": "display_data"
    }
   ],
   "source": [
    "findCountryCode \"massachusetts\""
   ]
  },
  {
   "cell_type": "code",
   "execution_count": 17,
   "metadata": {},
   "outputs": [],
   "source": [
    "countryByCountryCode :: CountryCode -> CIO (Maybe Country)\n",
    "countryByCountryCode (CountryCode code) = do\n",
    "    r <- getWith opts geonamesAPICountryInfo\n",
    "    forM_ (geonamesError r) $ \\e -> \n",
    "        fail (\"At \" <> T.unpack code <> \": \" <> e)\n",
    "    pure $ Country \n",
    "        <$> (fmap CountryName $ r\n",
    "                ^? responseBody \n",
    "                . key \"geonames\" \n",
    "                . nth 0 \n",
    "                . key \"countryName\" \n",
    "                . _String) \n",
    "        <*> (fmap CountryPopulation $ r \n",
    "                ^? responseBody\n",
    "                . key \"geonames\"\n",
    "                . nth 0\n",
    "                . key \"population\"\n",
    "                . _String\n",
    "                . to (read . T.unpack))     \n",
    "  where\n",
    "    opts = \n",
    "      defaults\n",
    "          & param \"country\" .~ [ code ]\n",
    "          & param \"username\" .~ [ geonamesUsername ]"
   ]
  },
  {
   "cell_type": "code",
   "execution_count": 18,
   "metadata": {},
   "outputs": [
    {
     "data": {
      "text/plain": [
       "Just (Country {countryName = CountryName {unCountryName = \"Switzerland\"}, countryPopulation = CountryPopulation {unCountryPopulation = 7581000}})"
      ]
     },
     "metadata": {},
     "output_type": "display_data"
    }
   ],
   "source": [
    "countryByCountryCode \"CH\""
   ]
  },
  {
   "cell_type": "code",
   "execution_count": 19,
   "metadata": {},
   "outputs": [],
   "source": [
    "import qualified Data.ByteString as BS\n",
    "\n",
    "githubAuth <- oauth2Token <$> BS.readFile \".github-api-token\""
   ]
  },
  {
   "cell_type": "code",
   "execution_count": 20,
   "metadata": {},
   "outputs": [],
   "source": [
    "import Control.Monad.Trans.Maybe\n",
    "\n",
    "githubUserCountry :: GithubUser -> CIO (Maybe Country)\n",
    "githubUserCountry user = runMaybeT $ do\n",
    "    location <- MaybeT $ getLocation <$> fetchUser\n",
    "    code <- MaybeT $ findCountryCode location\n",
    "    MaybeT $ countryByCountryCode code\n",
    "  where\n",
    "    fetchUser = getWith opts $ githubAPIUsers user\n",
    "    getLocation r = r ^? responseBody . key \"location\" . _String\n",
    "    opts = defaults & auth ?~ githubAuth"
   ]
  },
  {
   "cell_type": "code",
   "execution_count": 21,
   "metadata": {},
   "outputs": [
    {
     "data": {
      "text/plain": [
       "Just (Country {countryName = CountryName {unCountryName = \"Switzerland\"}, countryPopulation = CountryPopulation {unCountryPopulation = 7581000}})"
      ]
     },
     "metadata": {},
     "output_type": "display_data"
    }
   ],
   "source": [
    "githubUserCountry \"nmattia\""
   ]
  },
  {
   "cell_type": "code",
   "execution_count": 22,
   "metadata": {},
   "outputs": [],
   "source": [
    "import qualified Data.Conduit.Combinators as C\n",
    "\n",
    "        \n",
    "topRepos :: T.Text -> Producer CIO GithubRepo   \n",
    "topRepos language = \n",
    "    getAllWith opts githubAPISearchRepos\n",
    "    .| awaitForever (C.yieldMany . fmap GithubRepo . getFullName)\n",
    "  where\n",
    "    getFullName r = \n",
    "      r ^.. responseBody . key \"items\" . values . key \"full_name\" . _String\n",
    "    opts = defaults \n",
    "        & param \"q\" .~ [\"language:\" <> language]\n",
    "        & param \"sort\" .~ [\"stars\"]\n",
    "        & param \"per_page\" .~ [\"100\"]\n",
    "        & auth ?~ githubAuth"
   ]
  },
  {
   "cell_type": "code",
   "execution_count": 23,
   "metadata": {
    "scrolled": true
   },
   "outputs": [
    {
     "data": {
      "text/plain": [
       "GithubRepo {unGithubRepo = \"jgm/pandoc\"}"
      ]
     },
     "metadata": {},
     "output_type": "display_data"
    },
    {
     "data": {
      "text/plain": [
       "GithubRepo {unGithubRepo = \"koalaman/shellcheck\"}"
      ]
     },
     "metadata": {},
     "output_type": "display_data"
    },
    {
     "data": {
      "text/plain": [
       "GithubRepo {unGithubRepo = \"PostgREST/postgrest\"}"
      ]
     },
     "metadata": {},
     "output_type": "display_data"
    },
    {
     "data": {
      "text/plain": [
       "GithubRepo {unGithubRepo = \"purescript/purescript\"}"
      ]
     },
     "metadata": {},
     "output_type": "display_data"
    },
    {
     "data": {
      "text/plain": [
       "GithubRepo {unGithubRepo = \"elm/compiler\"}"
      ]
     },
     "metadata": {},
     "output_type": "display_data"
    }
   ],
   "source": [
    "sourceToList $ topRepos \"haskell\" .| C.take 5"
   ]
  },
  {
   "cell_type": "code",
   "execution_count": 24,
   "metadata": {},
   "outputs": [],
   "source": [
    "repoContributors :: GithubRepo -> Producer CIO GithubUser\n",
    "repoContributors repo = \n",
    "    getAllWith opts (githubAPIRepoContributors repo)\n",
    "    .| awaitForever (C.yieldMany . fmap GithubUser . getLogin)\n",
    "  where\n",
    "    getLogin r = r ^.. responseBody .values.key \"login\" . _String\n",
    "    opts = defaults \n",
    "        & param \"per_page\" .~ [\"100\"]\n",
    "        & auth ?~ githubAuth"
   ]
  },
  {
   "cell_type": "code",
   "execution_count": 25,
   "metadata": {},
   "outputs": [
    {
     "data": {
      "text/plain": [
       "GithubUser {unGithubUser = \"jgm\"}"
      ]
     },
     "metadata": {},
     "output_type": "display_data"
    },
    {
     "data": {
      "text/plain": [
       "GithubUser {unGithubUser = \"jkr\"}"
      ]
     },
     "metadata": {},
     "output_type": "display_data"
    },
    {
     "data": {
      "text/plain": [
       "GithubUser {unGithubUser = \"tarleb\"}"
      ]
     },
     "metadata": {},
     "output_type": "display_data"
    },
    {
     "data": {
      "text/plain": [
       "GithubUser {unGithubUser = \"labdsf\"}"
      ]
     },
     "metadata": {},
     "output_type": "display_data"
    },
    {
     "data": {
      "text/plain": [
       "GithubUser {unGithubUser = \"mpickering\"}"
      ]
     },
     "metadata": {},
     "output_type": "display_data"
    }
   ],
   "source": [
    "-- COPY from above\n",
    "-- topRepos -> repoContributors\n",
    "sourceToList $ repoContributors \"jgm/pandoc\" .| C.take 5"
   ]
  },
  {
   "cell_type": "code",
   "execution_count": 26,
   "metadata": {
    "scrolled": true
   },
   "outputs": [
    {
     "data": {
      "text/plain": [
       "GithubUser {unGithubUser = \"jgm\"}"
      ]
     },
     "metadata": {},
     "output_type": "display_data"
    },
    {
     "data": {
      "text/plain": [
       "GithubUser {unGithubUser = \"jkr\"}"
      ]
     },
     "metadata": {},
     "output_type": "display_data"
    },
    {
     "data": {
      "text/plain": [
       "GithubUser {unGithubUser = \"tarleb\"}"
      ]
     },
     "metadata": {},
     "output_type": "display_data"
    },
    {
     "data": {
      "text/plain": [
       "GithubUser {unGithubUser = \"labdsf\"}"
      ]
     },
     "metadata": {},
     "output_type": "display_data"
    },
    {
     "data": {
      "text/plain": [
       "GithubUser {unGithubUser = \"mpickering\"}"
      ]
     },
     "metadata": {},
     "output_type": "display_data"
    }
   ],
   "source": [
    "-- COPY from \"topRepos\"\n",
    "-- ADD awaitForever repoContributors\n",
    "sourceToList $ topRepos \"haskell\" .| awaitForever repoContributors .| C.take 5"
   ]
  },
  {
   "cell_type": "code",
   "execution_count": 27,
   "metadata": {},
   "outputs": [],
   "source": [
    "{-# LANGUAGE LambdaCase #-}\n",
    "\n",
    "import qualified Data.HashSet as Set\n",
    "import Data.Hashable (Hashable(..))\n",
    "\n",
    "accumulateUniques :: (Eq a, Hashable a) => Int -> Sink a CIO (Set.HashSet a)\n",
    "accumulateUniques n = go mempty\n",
    "    where\n",
    "      go acc = await >>= \\case\n",
    "          Just x | Set.size acc < n -> go (Set.insert x acc)\n",
    "          _ -> pure acc    "
   ]
  },
  {
   "cell_type": "code",
   "execution_count": 28,
   "metadata": {},
   "outputs": [
    {
     "data": {
      "text/plain": [
       "\"baz\""
      ]
     },
     "metadata": {},
     "output_type": "display_data"
    },
    {
     "data": {
      "text/plain": [
       "\"foo\""
      ]
     },
     "metadata": {},
     "output_type": "display_data"
    },
    {
     "data": {
      "text/plain": [
       "\"bar\""
      ]
     },
     "metadata": {},
     "output_type": "display_data"
    }
   ],
   "source": [
    "-- WRITE\n",
    "C.yieldMany [\"foo\", \"bar\", \"bar\", \"baz\", undefined] $$ accumulateUniques 3"
   ]
  },
  {
   "cell_type": "code",
   "execution_count": 29,
   "metadata": {},
   "outputs": [],
   "source": [
    "{-# LANGUAGE StandaloneDeriving #-}\n",
    "\n",
    "deriving instance Eq GithubUser\n",
    "deriving instance Hashable GithubUser"
   ]
  },
  {
   "cell_type": "code",
   "execution_count": 30,
   "metadata": {},
   "outputs": [
    {
     "data": {
      "text/plain": [
       "GithubUser {unGithubUser = \"jkr\"}"
      ]
     },
     "metadata": {},
     "output_type": "display_data"
    },
    {
     "data": {
      "text/plain": [
       "GithubUser {unGithubUser = \"tarleb\"}"
      ]
     },
     "metadata": {},
     "output_type": "display_data"
    },
    {
     "data": {
      "text/plain": [
       "GithubUser {unGithubUser = \"jgm\"}"
      ]
     },
     "metadata": {},
     "output_type": "display_data"
    },
    {
     "data": {
      "text/plain": [
       "GithubUser {unGithubUser = \"mpickering\"}"
      ]
     },
     "metadata": {},
     "output_type": "display_data"
    },
    {
     "data": {
      "text/plain": [
       "GithubUser {unGithubUser = \"labdsf\"}"
      ]
     },
     "metadata": {},
     "output_type": "display_data"
    }
   ],
   "source": [
    "\n",
    "-- WRITE\n",
    "someUsers = runConduit $\n",
    "    topRepos \"haskell\" \n",
    "    .| awaitForever repoContributors\n",
    "    .| accumulateUniques 5\n",
    "    \n",
    "someUsers\n",
    "    \n",
    "-- print5 $ Set.toList users"
   ]
  },
  {
   "cell_type": "code",
   "execution_count": 31,
   "metadata": {},
   "outputs": [],
   "source": [
    "import qualified Data.HashMap.Strict as Map\n",
    "import Control.Monad\n",
    "\n",
    "deriving instance Eq CountryPopulation\n",
    "deriving instance Eq CountryName\n",
    "deriving instance Eq Country\n",
    "instance Hashable Country where hashWithSalt s = hashWithSalt s . unCountryName . countryName\n",
    "            \n",
    "userCountries :: Set.HashSet GithubUser -> CIO (Map.HashMap Country Int)\n",
    "userCountries cs = -- cached githubUserCountry $ \\githubUserCountry' ->\n",
    "  foldM \n",
    "    (\\m u -> githubUserCountry u >>= \\case\n",
    "        Nothing -> pure m\n",
    "        Just c -> pure $ Map.insertWith (+) c 1 m    \n",
    "    ) Map.empty (Set.toList cs)"
   ]
  },
  {
   "cell_type": "code",
   "execution_count": 34,
   "metadata": {},
   "outputs": [
    {
     "data": {
      "text/plain": [
       "(Country {countryName = CountryName {unCountryName = \"United Kingdom\"}, countryPopulation = CountryPopulation {unCountryPopulation = 62348447}},1)"
      ]
     },
     "metadata": {},
     "output_type": "display_data"
    },
    {
     "data": {
      "text/plain": [
       "(Country {countryName = CountryName {unCountryName = \"United States\"}, countryPopulation = CountryPopulation {unCountryPopulation = 310232863}},1)"
      ]
     },
     "metadata": {},
     "output_type": "display_data"
    },
    {
     "data": {
      "text/plain": [
       "(Country {countryName = CountryName {unCountryName = \"Germany\"}, countryPopulation = CountryPopulation {unCountryPopulation = 81802257}},1)"
      ]
     },
     "metadata": {},
     "output_type": "display_data"
    }
   ],
   "source": [
    "userCountries =<< someUsers"
   ]
  },
  {
   "cell_type": "code",
   "execution_count": 33,
   "metadata": {},
   "outputs": [],
   "source": [
    "import Graphics.Rendering.Chart \n",
    "import Graphics.Rendering.Chart.Backend.Cairo\n",
    "import Data.Default.Class\n",
    "import Control.Lens\n",
    "\n",
    "chart :: String -> [(Country, Double)] -> Renderable ()\n",
    "chart title cs = toRenderable layout \n",
    "  where\n",
    "    layout = pie_title .~ title\n",
    "           $ pie_plot . pie_data .~ map pitem values\n",
    "           $ def\n",
    "    values = take 10\n",
    "           . (ix 0. _3 .~ 20) \n",
    "           . fmap (\\(c, val) -> (T.unpack $ unCountryName $ countryName c, val, 0))\n",
    "            $ cs\n",
    "    pitem (s,v,o) = pitem_value .~ v\n",
    "                  $ pitem_label .~ s\n",
    "                  $ pitem_offset .~ o\n",
    "                  $ def"
   ]
  },
  {
   "cell_type": "code",
   "execution_count": 36,
   "metadata": {},
   "outputs": [],
   "source": [
    "import Data.Bifunctor\n",
    "import Data.List"
   ]
  },
  {
   "cell_type": "code",
   "execution_count": 40,
   "metadata": {},
   "outputs": [
    {
     "data": {
      "text/plain": [
       "Users: 100"
      ]
     },
     "metadata": {},
     "output_type": "display_data"
    },
    {
     "data": {
      "text/plain": [
       "Countries: 23"
      ]
     },
     "metadata": {},
     "output_type": "display_data"
    },
    {
     "data": {
      "image/png": "[encoded data removed]"
     },
     "metadata": {},
     "output_type": "display_data"
    }
   ],
   "source": [
    "\n",
    "let lang = \"haskell\"\n",
    "    title = \"top contributing countries\"\n",
    "\n",
    "users <- runCIO $ topRepos lang $$ awaitForever repoContributors .| accumulateUniques 100\n",
    "    \n",
    "countries <- runCIO $ userCountries users\n",
    "\n",
    "putStrLn $ \"Users: \" <> show (Set.size users)\n",
    "putStrLn $ \"Countries: \" <> show (Map.size countries)\n",
    "\n",
    "chart (lang <> \" - \" <> title) \n",
    "    . sortOn (negate . snd) \n",
    "    . fmap (second fromIntegral)\n",
    "    $ Map.toList countries"
   ]
  },
  {
   "cell_type": "code",
   "execution_count": null,
   "metadata": {
    "scrolled": false
   },
   "outputs": [],
   "source": [
    "let lang = \"haskell\"\n",
    "    title = \"top contributing countries, scaled, filterd\"\n",
    "\n",
    "users <- topRepos lang $$ awaitForever repoContributors .| accumulateUniques 100\n",
    "    \n",
    "countries <- userCountries users\n",
    "\n",
    "putStrLn $ \"Users: \" <> show (Set.size users)\n",
    "putStrLn $ \"Countries: \" <> show (Map.size countries)\n",
    "\n",
    "chart (lang <> \" - \" <> title) \n",
    "    . sortOn (negate . snd) \n",
    "    . fmap (\\(c, n) -> (c, n / fromIntegral (countryPopulation c)))\n",
    "    . filter ((> 1000000) . countryPopulation . fst)\n",
    "    . fmap (second fromIntegral)\n",
    "    $ Map.toList countries"
   ]
  },
  {
   "cell_type": "code",
   "execution_count": null,
   "metadata": {},
   "outputs": [],
   "source": [
    "let lang = \"haskell\"\n",
    "    title = \"top contributing countries, scaled, filterd\"\n",
    "\n",
    "users <- topRepos lang $$ awaitForever repoContributors .| accumulateUniques 3000\n",
    "    \n",
    "countries <- userCountries users\n",
    "\n",
    "putStrLn $ \"Users: \" <> show (Set.size users)\n",
    "putStrLn $ \"Countries: \" <> show (Map.size countries)\n",
    "\n",
    "chart (lang <> \" - \" <> title) \n",
    "    . sortOn (negate . snd) \n",
    "    . fmap (\\(c, n) -> (c, n / fromIntegral (countryPopulation c)))\n",
    "    . fmap (second fromIntegral)\n",
    "    . filter ((> 1000000) . countryPopulation . fst)\n",
    "    $ Map.toList countries"
   ]
  },
  {
   "cell_type": "code",
   "execution_count": null,
   "metadata": {},
   "outputs": [],
   "source": [
    "Map.filterWithKey (\\c _ -> countryName c == \"India\") countries -- WRITE"
   ]
  }
 ],
 "metadata": {
  "kernelspec": {
   "display_name": "Haskell",
   "language": "haskell",
   "name": "haskell"
  },
  "language_info": {
   "codemirror_mode": "ihaskell",
   "file_extension": ".hs",
   "name": "haskell",
   "version": "8.2.2"
  }
 },
 "nbformat": 4,
 "nbformat_minor": 2
}
