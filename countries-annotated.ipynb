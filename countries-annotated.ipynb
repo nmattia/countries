{
 "cells": [
  {
   "cell_type": "markdown",
   "metadata": {},
   "source": [
    "**PREPARE NEW CHROME WINDOW**\n",
    "\n",
    "BIG CROWD -- 200 CAMERA\n",
    "\n",
    "**SLIDE PROGRAM**\n",
    "\n",
    "OVERVIEW of what's POSSIBLE, not DEEP EXPLAINATION\n",
    "\n",
    "HAND UP : DOWN for NIX HASKELL JUPYTER\n",
    "\n",
    "HAND UP : DOWN for VEGETARIAN SWISS -- get DATA: ASK, not GOOD but SOME\n",
    "\n",
    "Lot to LEARN NIX, HASKELL, JUPYTER, but WORTH IT\n",
    "\n",
    "Learning GUITAR and ROCKBAND, but THIS HOW YOU GET THE GIRLS\n",
    "\n",
    "**SLIDE BUT WHY THOUGH**\n",
    "\n",
    "LONDON, BACK, LOTS OF HASKELL\n",
    "\n",
    "**SLIDE JUPYTER WITH NIX**\n",
    "\n",
    "**SLIDE JUPYTER**\n",
    "\n",
    "EXPLAIN KERNELS\n",
    "\n",
    "LOTS OF DEPS: PYTHON PACKAGES; GHC; IHASKELL\n",
    "\n",
    "SHELL ; PYTHON, GHC, STACK, CABAL\n",
    "\n",
    "**SLIDE NIX**\n",
    "\n",
    "REPL session\n",
    "\n",
    "PURE; FUNCTION INPUT CAPTURED\n",
    "\n",
    "DO NOT cd /tmp; GIT CLONE; BEER ON ME\n",
    "\n",
    "PLAY IN PYTHON; THEN HASKELL\n",
    "\n",
    "toggle HEADER, TOOLBAR, LINE NUMBERS\n",
    "\n",
    "**SLIDE API DISCOVERY**\n",
    "\n",
    "CHIT CHAT ABOUT HOW TO GET DATA\n",
    "\n",
    "**SLIDE GITHUB**\n",
    "\n",
    "CLICK; POSTGRES; CONTRIBUTORS; TOP\n",
    "\n",
    "**SLIDE GEONAMES**\n",
    "\n",
    "NO IDEA WHO BEHIND IT\n",
    "WORKS RELIABLY (ENOUGH)\n",
    "\n",
    "CLICK; MINNESOTA\n",
    "\n",
    "**SLIDE DATA PIPELINE**\n",
    "\n",
    "\n",
    "EXPLAIN\n",
    "\n",
    "**SLIDE VOCABULARY\n",
    "\n",
    "**SLIDE APIs PROPER**\n",
    "\n",
    "EXPLAIN NEXT STEPS\n",
    "\n",
    "**SLIDE API REPOSITORIES**\n",
    "\n",
    "SIDE SHELL; PS1; CURL; jq '.' -C | less -R"
   ]
  },
  {
   "cell_type": "code",
   "execution_count": 1,
   "metadata": {},
   "outputs": [],
   "source": [
    "{-# LANGUAGE OverloadedStrings #-}\n",
    "\n",
    "import Network.Wreq\n",
    "import Data.Aeson.Lens\n",
    "import Control.Lens"
   ]
  },
  {
   "cell_type": "code",
   "execution_count": 2,
   "metadata": {},
   "outputs": [
    {
     "data": {
      "text/html": [
       "<style>/* Styles used for the Hoogle display in the pager */\n",
       ".hoogle-doc {\n",
       "display: block;\n",
       "padding-bottom: 1.3em;\n",
       "padding-left: 0.4em;\n",
       "}\n",
       ".hoogle-code {\n",
       "display: block;\n",
       "font-family: monospace;\n",
       "white-space: pre;\n",
       "}\n",
       ".hoogle-text {\n",
       "display: block;\n",
       "}\n",
       ".hoogle-name {\n",
       "color: green;\n",
       "font-weight: bold;\n",
       "}\n",
       ".hoogle-head {\n",
       "font-weight: bold;\n",
       "}\n",
       ".hoogle-sub {\n",
       "display: block;\n",
       "margin-left: 0.4em;\n",
       "}\n",
       ".hoogle-package {\n",
       "font-weight: bold;\n",
       "font-style: italic;\n",
       "}\n",
       ".hoogle-module {\n",
       "font-weight: bold;\n",
       "}\n",
       ".hoogle-class {\n",
       "font-weight: bold;\n",
       "}\n",
       ".get-type {\n",
       "color: green;\n",
       "font-weight: bold;\n",
       "font-family: monospace;\n",
       "display: block;\n",
       "white-space: pre-wrap;\n",
       "}\n",
       ".show-type {\n",
       "color: green;\n",
       "font-weight: bold;\n",
       "font-family: monospace;\n",
       "margin-left: 1em;\n",
       "}\n",
       ".mono {\n",
       "font-family: monospace;\n",
       "display: block;\n",
       "}\n",
       ".err-msg {\n",
       "color: red;\n",
       "font-style: italic;\n",
       "font-family: monospace;\n",
       "white-space: pre;\n",
       "display: block;\n",
       "}\n",
       "#unshowable {\n",
       "color: red;\n",
       "font-weight: bold;\n",
       "}\n",
       ".err-msg.in.collapse {\n",
       "padding-top: 0.7em;\n",
       "}\n",
       ".highlight-code {\n",
       "white-space: pre;\n",
       "font-family: monospace;\n",
       "}\n",
       ".suggestion-warning { \n",
       "font-weight: bold;\n",
       "color: rgb(200, 130, 0);\n",
       "}\n",
       ".suggestion-error { \n",
       "font-weight: bold;\n",
       "color: red;\n",
       "}\n",
       ".suggestion-name {\n",
       "font-weight: bold;\n",
       "}\n",
       "</style><span class='get-type'>print5 :: forall a. Show a => [a] -> IO ()</span>"
      ],
      "text/plain": [
       "print5 :: forall a. Show a => [a] -> IO ()"
      ]
     },
     "metadata": {},
     "output_type": "display_data"
    },
    {
     "data": {
      "text/plain": [
       "\"jgm/pandoc\"\n",
       "\"begriffs/postgrest\"\n",
       "\"koalaman/shellcheck\"\n",
       "\"purescript/purescript\"\n",
       "\"elm-lang/elm-compiler\""
      ]
     },
     "metadata": {},
     "output_type": "display_data"
    }
   ],
   "source": [
    "-- WRITE what's below (SIDE SHELL FIRST)\n",
    "\n",
    "r <- get \"https://api.github.com/search/repositories?q=language:haskell&sort=stars\" -- COPY from slide\n",
    "\n",
    "-- WRITE print5\n",
    "\n",
    "print5 = mapM_ print . take 5\n",
    "\n",
    ":t print5\n",
    "\n",
    "print5 $ r ^.. responseBody . key \"items\" . values . key \"full_name\" . _String"
   ]
  },
  {
   "cell_type": "markdown",
   "metadata": {},
   "source": [
    "LOTS COMPILER -- FASTER THAN GHC\n",
    "postgrest -- HASKELL MAGNET"
   ]
  },
  {
   "cell_type": "code",
   "execution_count": 3,
   "metadata": {},
   "outputs": [
    {
     "data": {
      "text/plain": [
       "\"jgm\"\n",
       "\"jkr\"\n",
       "\"tarleb\"\n",
       "\"labdsf\"\n",
       "\"mpickering\""
      ]
     },
     "metadata": {},
     "output_type": "display_data"
    }
   ],
   "source": [
    "-- SLIDE contributors\n",
    "-- WRITE \n",
    "\n",
    "r <- get \"https://api.github.com/repos/jgm/pandoc/contributors\" -- COPY from slide\n",
    "print5 $ r ^.. responseBody . values .  key \"login\" . _String"
   ]
  },
  {
   "cell_type": "code",
   "execution_count": 4,
   "metadata": {},
   "outputs": [
    {
     "data": {
      "text/plain": [
       "\"Berkeley, CA\""
      ]
     },
     "metadata": {},
     "output_type": "display_data"
    }
   ],
   "source": [
    "-- SLIDE users/jgm\n",
    "-- WRITE\n",
    "\n",
    "r <- get \"https://api.github.com/users/jgm\" -- COPY from slide\n",
    "r ^. responseBody . key \"location\" . _String"
   ]
  },
  {
   "cell_type": "code",
   "execution_count": 5,
   "metadata": {},
   "outputs": [],
   "source": [
    "import qualified Data.Text.IO as T\n",
    "\n",
    "geonamesUsername <- T.readFile \".geonames-username\""
   ]
  },
  {
   "cell_type": "code",
   "execution_count": 6,
   "metadata": {},
   "outputs": [
    {
     "data": {
      "text/plain": [
       "\"US\""
      ]
     },
     "metadata": {},
     "output_type": "display_data"
    }
   ],
   "source": [
    "-- SLIDE searchJSON\n",
    "-- WRITE\n",
    "r <- getWith\n",
    "    (defaults & param \"username\" .~ [geonamesUsername] & param \"q\" .~ [\"Berkeley, CA\"])\n",
    "    \"http://api.geonames.org/searchJSON\"\n",
    "r ^. responseBody . key \"geonames\" . nth 0 . key \"countryCode\" . _String"
   ]
  },
  {
   "cell_type": "code",
   "execution_count": 7,
   "metadata": {},
   "outputs": [
    {
     "data": {
      "text/plain": [
       "\"United States\""
      ]
     },
     "metadata": {},
     "output_type": "display_data"
    },
    {
     "data": {
      "text/plain": [
       "\"310232863\""
      ]
     },
     "metadata": {},
     "output_type": "display_data"
    }
   ],
   "source": [
    "-- SLIDE countryInfoJSON\n",
    "-- WRITE\n",
    "\n",
    "r <- getWith (defaults & param \"username\" .~ [geonamesUsername] & param \"country\" .~ [\"US\"]) \n",
    "    \"http://api.geonames.org/countryInfoJSON\"\n",
    "r ^. responseBody . key \"geonames\" . nth 0 . key \"countryName\" . _String\n",
    "r ^. responseBody . key \"geonames\" . nth 0 . key \"population\" . _String"
   ]
  },
  {
   "cell_type": "markdown",
   "metadata": {},
   "source": [
    "SLIDE HASKELL WRAPPING\n",
    "\n",
    "PROPER TYPES, not ANIMALS"
   ]
  },
  {
   "cell_type": "code",
   "execution_count": 8,
   "metadata": {},
   "outputs": [],
   "source": [
    "{-# LANGUAGE GeneralizedNewtypeDeriving #-}\n",
    "\n",
    "import Data.String (IsString)\n",
    "import qualified Data.Text as T\n",
    "\n",
    "newtype GithubRepo = GithubRepo { unGithubRepo :: T.Text } deriving (IsString, Show)\n",
    "newtype GithubUser = GithubUser { unGithubUser :: T.Text } deriving (IsString, Show)\n",
    "newtype CountryCode = CountryCode { unCountryCode :: T.Text } deriving (IsString, Show)\n",
    "newtype CountryName = CountryName { unCountryName :: T.Text } deriving (IsString, Show)\n",
    "newtype CountryPopulation = CountryPopulation { unCountryPopulation :: Int } \n",
    "    deriving (Num, Enum, Eq, Ord, Real, Integral, Show)\n",
    "\n",
    "data Country = Country \n",
    "    { countryName :: CountryName\n",
    "    , countryPopulation :: CountryPopulation\n",
    "    } deriving Show"
   ]
  },
  {
   "cell_type": "code",
   "execution_count": 9,
   "metadata": {},
   "outputs": [],
   "source": [
    "import Data.Semigroup\n",
    "\n",
    "githubAPI :: String\n",
    "geonamesAPI :: String\n",
    "\n",
    "githubAPI = \"https://api.github.com\"\n",
    "geonamesAPI = \"http://api.geonames.org\"\n",
    "\n",
    "githubAPISearchRepos :: String\n",
    "githubAPIRepos :: GithubRepo -> String\n",
    "githubAPIUsers :: GithubUser -> String\n",
    "githubAPIRepoContributors :: GithubRepo -> String\n",
    "geonamesAPISearch :: String\n",
    "geonamesAPICountryInfo :: String\n",
    "\n",
    "githubAPISearchRepos = githubAPI <> \"/search/repositories\"\n",
    "githubAPIRepos (GithubRepo repo) = githubAPI <> \"/repos/\" <> T.unpack repo\n",
    "githubAPIUsers (GithubUser user) = githubAPI <> \"/users/\" <> T.unpack user\n",
    "githubAPIRepoContributors repo = githubAPIRepos repo <> \"/contributors\"\n",
    "geonamesAPISearch = geonamesAPI <> \"/searchJSON\"\n",
    "geonamesAPICountryInfo = geonamesAPI <> \"/countryInfoJSON\""
   ]
  },
  {
   "cell_type": "code",
   "execution_count": 10,
   "metadata": {},
   "outputs": [],
   "source": [
    "import Control.Monad\n",
    "\n",
    "geonamesError r = r ^? responseBody . key \"status\" . to show\n",
    "\n",
    "-- MAYBE: airfestou \"where do you want me to be\"\n",
    "findCountryCode :: T.Text -> IO (Maybe CountryCode)\n",
    "findCountryCode location = do\n",
    "    r <- getWith opts geonamesAPISearch\n",
    "    forM_ (geonamesError r) $ \\e ->\n",
    "        fail (\"At \" <> T.unpack location <> \": \" <> e)\n",
    "    pure $ CountryCode <$> \n",
    "        r ^? responseBody \n",
    "            . key \"geonames\" \n",
    "            . nth 0\n",
    "            . key \"countryCode\"\n",
    "            . _String\n",
    "  where\n",
    "    opts = \n",
    "        defaults \n",
    "            & param \"q\" .~ [location] \n",
    "            & param \"username\" .~ [geonamesUsername]"
   ]
  },
  {
   "cell_type": "code",
   "execution_count": 11,
   "metadata": {},
   "outputs": [
    {
     "data": {
      "text/html": [
       "<style>/* Styles used for the Hoogle display in the pager */\n",
       ".hoogle-doc {\n",
       "display: block;\n",
       "padding-bottom: 1.3em;\n",
       "padding-left: 0.4em;\n",
       "}\n",
       ".hoogle-code {\n",
       "display: block;\n",
       "font-family: monospace;\n",
       "white-space: pre;\n",
       "}\n",
       ".hoogle-text {\n",
       "display: block;\n",
       "}\n",
       ".hoogle-name {\n",
       "color: green;\n",
       "font-weight: bold;\n",
       "}\n",
       ".hoogle-head {\n",
       "font-weight: bold;\n",
       "}\n",
       ".hoogle-sub {\n",
       "display: block;\n",
       "margin-left: 0.4em;\n",
       "}\n",
       ".hoogle-package {\n",
       "font-weight: bold;\n",
       "font-style: italic;\n",
       "}\n",
       ".hoogle-module {\n",
       "font-weight: bold;\n",
       "}\n",
       ".hoogle-class {\n",
       "font-weight: bold;\n",
       "}\n",
       ".get-type {\n",
       "color: green;\n",
       "font-weight: bold;\n",
       "font-family: monospace;\n",
       "display: block;\n",
       "white-space: pre-wrap;\n",
       "}\n",
       ".show-type {\n",
       "color: green;\n",
       "font-weight: bold;\n",
       "font-family: monospace;\n",
       "margin-left: 1em;\n",
       "}\n",
       ".mono {\n",
       "font-family: monospace;\n",
       "display: block;\n",
       "}\n",
       ".err-msg {\n",
       "color: red;\n",
       "font-style: italic;\n",
       "font-family: monospace;\n",
       "white-space: pre;\n",
       "display: block;\n",
       "}\n",
       "#unshowable {\n",
       "color: red;\n",
       "font-weight: bold;\n",
       "}\n",
       ".err-msg.in.collapse {\n",
       "padding-top: 0.7em;\n",
       "}\n",
       ".highlight-code {\n",
       "white-space: pre;\n",
       "font-family: monospace;\n",
       "}\n",
       ".suggestion-warning { \n",
       "font-weight: bold;\n",
       "color: rgb(200, 130, 0);\n",
       "}\n",
       ".suggestion-error { \n",
       "font-weight: bold;\n",
       "color: red;\n",
       "}\n",
       ".suggestion-name {\n",
       "font-weight: bold;\n",
       "}\n",
       "</style><span style='color: green; font-weight: bold;'>Just</span><span style='font-family: monospace;'>CountryCode {unCountryCode = \"US\"}</span>"
      ],
      "text/plain": [
       "Just (CountryCode {unCountryCode = \"US\"})"
      ]
     },
     "metadata": {},
     "output_type": "display_data"
    }
   ],
   "source": [
    "-- WRITE\n",
    "findCountryCode \"massachusetts\""
   ]
  },
  {
   "cell_type": "code",
   "execution_count": 12,
   "metadata": {},
   "outputs": [
    {
     "data": {},
     "metadata": {},
     "output_type": "display_data"
    }
   ],
   "source": [
    ":i Country -- WRITE "
   ]
  },
  {
   "cell_type": "code",
   "execution_count": 13,
   "metadata": {},
   "outputs": [],
   "source": [
    "countryByCountryCode :: CountryCode -> IO (Maybe Country)\n",
    "countryByCountryCode (CountryCode code) = do\n",
    "    r <- getWith opts geonamesAPICountryInfo\n",
    "    forM_ (geonamesError r) $ \\e -> \n",
    "        fail (\"At \" <> T.unpack code <> \": \" <> e)\n",
    "    pure $ Country \n",
    "        <$> (fmap CountryName $ r\n",
    "                ^? responseBody \n",
    "                . key \"geonames\" \n",
    "                . nth 0 \n",
    "                . key \"countryName\" \n",
    "                . _String) \n",
    "        <*> (fmap CountryPopulation $ r \n",
    "                ^? responseBody\n",
    "                . key \"geonames\"\n",
    "                . nth 0\n",
    "                . key \"population\"\n",
    "                . _String\n",
    "                . to (read . T.unpack))     \n",
    "  where\n",
    "    opts = \n",
    "      defaults\n",
    "          & param \"country\" .~ [ code ]\n",
    "          & param \"username\" .~ [ geonamesUsername ]"
   ]
  },
  {
   "cell_type": "code",
   "execution_count": 14,
   "metadata": {},
   "outputs": [
    {
     "data": {
      "text/html": [
       "<style>/* Styles used for the Hoogle display in the pager */\n",
       ".hoogle-doc {\n",
       "display: block;\n",
       "padding-bottom: 1.3em;\n",
       "padding-left: 0.4em;\n",
       "}\n",
       ".hoogle-code {\n",
       "display: block;\n",
       "font-family: monospace;\n",
       "white-space: pre;\n",
       "}\n",
       ".hoogle-text {\n",
       "display: block;\n",
       "}\n",
       ".hoogle-name {\n",
       "color: green;\n",
       "font-weight: bold;\n",
       "}\n",
       ".hoogle-head {\n",
       "font-weight: bold;\n",
       "}\n",
       ".hoogle-sub {\n",
       "display: block;\n",
       "margin-left: 0.4em;\n",
       "}\n",
       ".hoogle-package {\n",
       "font-weight: bold;\n",
       "font-style: italic;\n",
       "}\n",
       ".hoogle-module {\n",
       "font-weight: bold;\n",
       "}\n",
       ".hoogle-class {\n",
       "font-weight: bold;\n",
       "}\n",
       ".get-type {\n",
       "color: green;\n",
       "font-weight: bold;\n",
       "font-family: monospace;\n",
       "display: block;\n",
       "white-space: pre-wrap;\n",
       "}\n",
       ".show-type {\n",
       "color: green;\n",
       "font-weight: bold;\n",
       "font-family: monospace;\n",
       "margin-left: 1em;\n",
       "}\n",
       ".mono {\n",
       "font-family: monospace;\n",
       "display: block;\n",
       "}\n",
       ".err-msg {\n",
       "color: red;\n",
       "font-style: italic;\n",
       "font-family: monospace;\n",
       "white-space: pre;\n",
       "display: block;\n",
       "}\n",
       "#unshowable {\n",
       "color: red;\n",
       "font-weight: bold;\n",
       "}\n",
       ".err-msg.in.collapse {\n",
       "padding-top: 0.7em;\n",
       "}\n",
       ".highlight-code {\n",
       "white-space: pre;\n",
       "font-family: monospace;\n",
       "}\n",
       ".suggestion-warning { \n",
       "font-weight: bold;\n",
       "color: rgb(200, 130, 0);\n",
       "}\n",
       ".suggestion-error { \n",
       "font-weight: bold;\n",
       "color: red;\n",
       "}\n",
       ".suggestion-name {\n",
       "font-weight: bold;\n",
       "}\n",
       "</style><span style='color: green; font-weight: bold;'>Just</span><span style='font-family: monospace;'>Country {countryName = CountryName {unCountryName = \"Switzerland\"}, countryPopulation = CountryPopulation {unCountryPopulation = 7581000}}</span>"
      ],
      "text/plain": [
       "Just (Country {countryName = CountryName {unCountryName = \"Switzerland\"}, countryPopulation = CountryPopulation {unCountryPopulation = 7581000}})"
      ]
     },
     "metadata": {},
     "output_type": "display_data"
    }
   ],
   "source": [
    "-- WRITE\n",
    "countryByCountryCode \"CH\""
   ]
  },
  {
   "cell_type": "code",
   "execution_count": 15,
   "metadata": {},
   "outputs": [],
   "source": [
    "import qualified Data.ByteString as BS\n",
    "\n",
    "githubAuth <- oauth2Token <$> BS.readFile \".github-api-token\""
   ]
  },
  {
   "cell_type": "code",
   "execution_count": 16,
   "metadata": {},
   "outputs": [],
   "source": [
    "import Control.Monad.Trans.Maybe\n",
    "\n",
    "githubUserCountry :: GithubUser -> IO (Maybe Country)\n",
    "githubUserCountry user = runMaybeT $ do\n",
    "    location <- MaybeT $ getLocation <$> fetchUser\n",
    "    code <- MaybeT $ findCountryCode location\n",
    "    MaybeT $ countryByCountryCode code\n",
    "  where\n",
    "    fetchUser = getWith opts $ githubAPIUsers user\n",
    "    getLocation r = r ^? responseBody . key \"location\" . _String\n",
    "    opts = defaults & auth ?~ githubAuth"
   ]
  },
  {
   "cell_type": "code",
   "execution_count": 17,
   "metadata": {},
   "outputs": [
    {
     "data": {
      "text/html": [
       "<style>/* Styles used for the Hoogle display in the pager */\n",
       ".hoogle-doc {\n",
       "display: block;\n",
       "padding-bottom: 1.3em;\n",
       "padding-left: 0.4em;\n",
       "}\n",
       ".hoogle-code {\n",
       "display: block;\n",
       "font-family: monospace;\n",
       "white-space: pre;\n",
       "}\n",
       ".hoogle-text {\n",
       "display: block;\n",
       "}\n",
       ".hoogle-name {\n",
       "color: green;\n",
       "font-weight: bold;\n",
       "}\n",
       ".hoogle-head {\n",
       "font-weight: bold;\n",
       "}\n",
       ".hoogle-sub {\n",
       "display: block;\n",
       "margin-left: 0.4em;\n",
       "}\n",
       ".hoogle-package {\n",
       "font-weight: bold;\n",
       "font-style: italic;\n",
       "}\n",
       ".hoogle-module {\n",
       "font-weight: bold;\n",
       "}\n",
       ".hoogle-class {\n",
       "font-weight: bold;\n",
       "}\n",
       ".get-type {\n",
       "color: green;\n",
       "font-weight: bold;\n",
       "font-family: monospace;\n",
       "display: block;\n",
       "white-space: pre-wrap;\n",
       "}\n",
       ".show-type {\n",
       "color: green;\n",
       "font-weight: bold;\n",
       "font-family: monospace;\n",
       "margin-left: 1em;\n",
       "}\n",
       ".mono {\n",
       "font-family: monospace;\n",
       "display: block;\n",
       "}\n",
       ".err-msg {\n",
       "color: red;\n",
       "font-style: italic;\n",
       "font-family: monospace;\n",
       "white-space: pre;\n",
       "display: block;\n",
       "}\n",
       "#unshowable {\n",
       "color: red;\n",
       "font-weight: bold;\n",
       "}\n",
       ".err-msg.in.collapse {\n",
       "padding-top: 0.7em;\n",
       "}\n",
       ".highlight-code {\n",
       "white-space: pre;\n",
       "font-family: monospace;\n",
       "}\n",
       ".suggestion-warning { \n",
       "font-weight: bold;\n",
       "color: rgb(200, 130, 0);\n",
       "}\n",
       ".suggestion-error { \n",
       "font-weight: bold;\n",
       "color: red;\n",
       "}\n",
       ".suggestion-name {\n",
       "font-weight: bold;\n",
       "}\n",
       "</style><span style='color: red; font-weight: bold;'>Nothing</span>"
      ],
      "text/plain": [
       "Nothing"
      ]
     },
     "metadata": {},
     "output_type": "display_data"
    }
   ],
   "source": [
    "-- WRITE \"meiersi\"\n",
    "-- WRITE \"qnikst\" ANY RANDOM CHARS\n",
    "-- WRITE \"aherrmann\" explain MAYBE -- NOTHING FOR FLY OUT\n",
    "\n",
    "githubUserCountry \"aherrmann\""
   ]
  },
  {
   "cell_type": "code",
   "execution_count": 18,
   "metadata": {},
   "outputs": [],
   "source": [
    "-- SLIDE CONDUIT (NO SHORTCUT!!!)\n",
    "\n",
    "{-# LANGUAGE RankNTypes #-}\n",
    "\n",
    "import Data.Conduit\n",
    "import Data.Function (fix)\n",
    "import Data.ByteString.Lens\n",
    "import qualified Data.ByteString.Lazy as BL\n",
    "\n",
    "import Control.Monad.IO.Class (liftIO)\n",
    "import qualified Data.Conduit.Combinators as C\n",
    "\n",
    "getAllWith :: Options -> String -> Producer IO (Response BL.ByteString)\n",
    "getAllWith opts = fix $ \\loop url -> do\n",
    "      r <- liftIO (getWith opts url)\n",
    "      yield r\n",
    "      mapM_ loop $ r ^? responseLink \"rel\" \"next\" . linkURL . unpackedChars\n",
    "        \n",
    "topRepos :: T.Text -> Producer IO GithubRepo   \n",
    "topRepos language = \n",
    "    getAllWith opts githubAPISearchRepos\n",
    "    .| awaitForever (C.yieldMany . fmap GithubRepo . getFullName)\n",
    "  where\n",
    "    getFullName r = \n",
    "      r ^.. responseBody . key \"items\" . values . key \"full_name\" . _String\n",
    "    opts = defaults \n",
    "        & param \"q\" .~ [\"language:\" <> language]\n",
    "        & param \"sort\" .~ [\"stars\"]\n",
    "        & param \"per_page\" .~ [\"100\"]\n",
    "        & auth ?~ githubAuth"
   ]
  },
  {
   "cell_type": "code",
   "execution_count": 19,
   "metadata": {
    "scrolled": true
   },
   "outputs": [
    {
     "data": {
      "text/plain": [
       "GithubRepo {unGithubRepo = \"jgm/pandoc\"}\n",
       "GithubRepo {unGithubRepo = \"begriffs/postgrest\"}\n",
       "GithubRepo {unGithubRepo = \"koalaman/shellcheck\"}\n",
       "GithubRepo {unGithubRepo = \"purescript/purescript\"}\n",
       "GithubRepo {unGithubRepo = \"elm-lang/elm-compiler\"}"
      ]
     },
     "metadata": {},
     "output_type": "display_data"
    }
   ],
   "source": [
    "print5C = C.take 5 .| C.mapM_ print\n",
    "\n",
    "-- WRITE\n",
    "topRepos \"haskell\" $$ print5C"
   ]
  },
  {
   "cell_type": "code",
   "execution_count": 20,
   "metadata": {},
   "outputs": [],
   "source": [
    "repoContributors :: GithubRepo -> Producer IO GithubUser\n",
    "repoContributors repo = \n",
    "    getAllWith opts (githubAPIRepoContributors repo)\n",
    "    .| awaitForever (C.yieldMany . fmap GithubUser . getLogin)\n",
    "  where\n",
    "    getLogin r = r ^.. responseBody .values.key \"login\" . _String\n",
    "    opts = defaults \n",
    "        & param \"per_page\" .~ [\"100\"]\n",
    "        & auth ?~ githubAuth"
   ]
  },
  {
   "cell_type": "code",
   "execution_count": 21,
   "metadata": {},
   "outputs": [
    {
     "data": {
      "text/plain": [
       "GithubUser {unGithubUser = \"jgm\"}\n",
       "GithubUser {unGithubUser = \"jkr\"}\n",
       "GithubUser {unGithubUser = \"tarleb\"}\n",
       "GithubUser {unGithubUser = \"labdsf\"}\n",
       "GithubUser {unGithubUser = \"mpickering\"}"
      ]
     },
     "metadata": {},
     "output_type": "display_data"
    }
   ],
   "source": [
    "-- COPY from above\n",
    "-- topRepos -> repoContributors\n",
    "repoContributors \"jgm/pandoc\" $$ print5C"
   ]
  },
  {
   "cell_type": "code",
   "execution_count": 22,
   "metadata": {
    "scrolled": true
   },
   "outputs": [
    {
     "data": {
      "text/plain": [
       "GithubUser {unGithubUser = \"jgm\"}\n",
       "GithubUser {unGithubUser = \"jkr\"}\n",
       "GithubUser {unGithubUser = \"tarleb\"}\n",
       "GithubUser {unGithubUser = \"labdsf\"}\n",
       "GithubUser {unGithubUser = \"mpickering\"}"
      ]
     },
     "metadata": {},
     "output_type": "display_data"
    }
   ],
   "source": [
    "-- COPY from \"topRepos\"\n",
    "-- ADD awaitForever repoContributors\n",
    "topRepos \"haskell\" $$ awaitForever repoContributors .| print5C"
   ]
  },
  {
   "cell_type": "code",
   "execution_count": 23,
   "metadata": {},
   "outputs": [],
   "source": [
    "{-# LANGUAGE LambdaCase #-}\n",
    "\n",
    "import qualified Data.HashSet as Set\n",
    "import Data.Hashable (Hashable(..))\n",
    "\n",
    "accumulateUniques :: (Eq a, Hashable a) => Int -> Sink a IO (Set.HashSet a)\n",
    "accumulateUniques n = go mempty\n",
    "    where\n",
    "      go acc = await >>= \\case\n",
    "          Just x | Set.size acc < n -> go (Set.insert x acc)\n",
    "          _ -> pure acc    "
   ]
  },
  {
   "cell_type": "code",
   "execution_count": 24,
   "metadata": {},
   "outputs": [
    {
     "data": {
      "text/plain": [
       "fromList [\"baz\",\"foo\",\"bar\"]"
      ]
     },
     "metadata": {},
     "output_type": "display_data"
    }
   ],
   "source": [
    "-- WRITE\n",
    "C.yieldMany [\"foo\", \"bar\", \"bar\", \"baz\", undefined] $$ accumulateUniques 3"
   ]
  },
  {
   "cell_type": "code",
   "execution_count": 25,
   "metadata": {},
   "outputs": [],
   "source": [
    "{-# LANGUAGE StandaloneDeriving #-}\n",
    "\n",
    "deriving instance Eq GithubUser\n",
    "deriving instance Hashable GithubUser"
   ]
  },
  {
   "cell_type": "code",
   "execution_count": 29,
   "metadata": {},
   "outputs": [
    {
     "data": {
      "text/plain": [
       "GithubUser {unGithubUser = \"hubertp\"}\n",
       "GithubUser {unGithubUser = \"hftf\"}\n",
       "GithubUser {unGithubUser = \"AlexanderS\"}\n",
       "GithubUser {unGithubUser = \"herwigstuetz\"}\n",
       "GithubUser {unGithubUser = \"juhp\"}"
      ]
     },
     "metadata": {},
     "output_type": "display_data"
    }
   ],
   "source": [
    "\n",
    "-- WRITE\n",
    "users <- topRepos \"haskell\" \n",
    "    $$ awaitForever repoContributors\n",
    "    .| accumulateUniques 100\n",
    "    \n",
    "print5 $ Set.toList users"
   ]
  },
  {
   "cell_type": "code",
   "execution_count": 27,
   "metadata": {},
   "outputs": [],
   "source": [
    "{-# LANGUAGE DeriveGeneric #-}\n",
    "{-# LANGUAGE ViewPatterns #-}\n",
    "\n",
    "import qualified Data.Aeson as Aeson\n",
    "import GHC.Generics (Generic)\n",
    "import qualified Data.Binary as B\n",
    "import qualified Database.LevelDB as DB\n",
    "import Data.Default\n",
    "import Control.Monad.Trans.Resource\n",
    "\n",
    "deriving instance Generic GithubUser\n",
    "deriving instance Generic Country\n",
    "deriving instance Generic CountryName\n",
    "deriving instance Generic CountryPopulation\n",
    "\n",
    "instance B.Binary GithubUser\n",
    "instance B.Binary CountryName\n",
    "instance B.Binary CountryPopulation\n",
    "instance B.Binary Country\n",
    "\n",
    "cached :: (B.Binary a, B.Binary b) => (a -> IO b) -> ((a -> ResourceT IO b) -> ResourceT IO c) -> IO c\n",
    "cached fetch act = runResourceT $ do\n",
    "    db <- DB.open \".cache\" def {DB.createIfMissing = True}\n",
    "    act $ \\key'@(BL.toStrict . B.encode -> key) -> do\n",
    "        (fmap $ B.decode . BL.fromStrict) <$> DB.get db def key >>= \\case\n",
    "            Just x -> pure x\n",
    "            Nothing -> do\n",
    "                x <- liftIO $ fetch key'\n",
    "                DB.put db def key (BL.toStrict $ B.encode x)\n",
    "                pure x"
   ]
  },
  {
   "cell_type": "code",
   "execution_count": 28,
   "metadata": {},
   "outputs": [],
   "source": [
    "import qualified Data.HashMap.Strict as Map\n",
    "import Control.Monad\n",
    "\n",
    "deriving instance Eq CountryPopulation\n",
    "deriving instance Eq CountryName\n",
    "deriving instance Eq Country\n",
    "instance Hashable Country where hashWithSalt s = hashWithSalt s . unCountryName . countryName\n",
    "            \n",
    "userCountries :: Set.HashSet GithubUser -> IO (Map.HashMap Country Int)\n",
    "userCountries cs = cached githubUserCountry $ \\githubUserCountry' ->\n",
    "  foldM \n",
    "    (\\m u -> githubUserCountry' u >>= \\case\n",
    "        Nothing -> pure m\n",
    "        Just c -> pure $ Map.insertWith (+) c 1 m    \n",
    "    ) Map.empty (Set.toList cs)"
   ]
  },
  {
   "cell_type": "code",
   "execution_count": 30,
   "metadata": {},
   "outputs": [
    {
     "data": {
      "text/plain": [
       "(Country {countryName = CountryName {unCountryName = \"Australia\"}, countryPopulation = CountryPopulation {unCountryPopulation = 21515754}},3)\n",
       "(Country {countryName = CountryName {unCountryName = \"United Kingdom\"}, countryPopulation = CountryPopulation {unCountryPopulation = 62348447}},4)\n",
       "(Country {countryName = CountryName {unCountryName = \"Denmark\"}, countryPopulation = CountryPopulation {unCountryPopulation = 5484000}},1)\n",
       "(Country {countryName = CountryName {unCountryName = \"France\"}, countryPopulation = CountryPopulation {unCountryPopulation = 64768389}},2)\n",
       "(Country {countryName = CountryName {unCountryName = \"China\"}, countryPopulation = CountryPopulation {unCountryPopulation = 1330044000}},1)"
      ]
     },
     "metadata": {},
     "output_type": "display_data"
    }
   ],
   "source": [
    "-- WRITE\n",
    "\n",
    "countries <- userCountries users -- WRITE\n",
    "\n",
    "print5 $ Map.toList countries"
   ]
  },
  {
   "cell_type": "code",
   "execution_count": 31,
   "metadata": {},
   "outputs": [],
   "source": [
    "-- SLIDE VISUALIZATIONS (NO FURTHER!!!)\n",
    "\n",
    "import Graphics.Rendering.Chart \n",
    "import Graphics.Rendering.Chart.Backend.Cairo\n",
    "import Data.Default.Class\n",
    "import Control.Lens\n",
    "\n",
    "chart :: String -> [(Country, Double)] -> Renderable ()\n",
    "chart title cs = toRenderable layout \n",
    "  where\n",
    "    layout = pie_title .~ title\n",
    "           $ pie_plot . pie_data .~ map pitem values\n",
    "           $ def\n",
    "    values = take 10\n",
    "           . (ix 0. _3 .~ 20) \n",
    "           . fmap (\\(c, val) -> (T.unpack $ unCountryName $ countryName c, val, 0))\n",
    "            $ cs\n",
    "    pitem (s,v,o) = pitem_value .~ v\n",
    "                  $ pitem_label .~ s\n",
    "                  $ pitem_offset .~ o\n",
    "                  $ def"
   ]
  },
  {
   "cell_type": "code",
   "execution_count": 32,
   "metadata": {},
   "outputs": [],
   "source": [
    "import Data.Bifunctor\n",
    "import Data.List"
   ]
  },
  {
   "cell_type": "code",
   "execution_count": 33,
   "metadata": {},
   "outputs": [
    {
     "data": {
      "text/plain": [
       "Users: 100"
      ]
     },
     "metadata": {},
     "output_type": "display_data"
    },
    {
     "data": {
      "text/plain": [
       "Countries: 22"
      ]
     },
     "metadata": {},
     "output_type": "display_data"
    },
    {
     "data": {
      "image/png": "[encoded data removed]"
     },
     "metadata": {},
     "output_type": "display_data"
    }
   ],
   "source": [
    "let lang = \"haskell\"\n",
    "    title = \"top contributing countries\"\n",
    "\n",
    "users <- topRepos lang $$ awaitForever repoContributors .| accumulateUniques 100\n",
    "    \n",
    "countries <- userCountries users\n",
    "\n",
    "putStrLn $ \"Users: \" <> show (Set.size users)\n",
    "putStrLn $ \"Countries: \" <> show (Map.size countries)\n",
    "\n",
    "chart (lang <> \" - \" <> title) \n",
    "    . sortOn (negate . snd) \n",
    "    . fmap (second fromIntegral)\n",
    "    $ Map.toList countries"
   ]
  },
  {
   "cell_type": "markdown",
   "metadata": {},
   "source": [
    "**LOOK AT COUNTRIES**\n",
    "**STICKING IT TO THE FRENCH**"
   ]
  },
  {
   "cell_type": "code",
   "execution_count": 41,
   "metadata": {
    "scrolled": false
   },
   "outputs": [
    {
     "data": {
      "text/plain": [
       "Users: 100"
      ]
     },
     "metadata": {},
     "output_type": "display_data"
    },
    {
     "data": {
      "text/plain": [
       "Countries: 22"
      ]
     },
     "metadata": {},
     "output_type": "display_data"
    },
    {
     "data": {
      "image/png": "[encoded data removed]"
     },
     "metadata": {},
     "output_type": "display_data"
    }
   ],
   "source": [
    "-- COPY FROM ABOVE\n",
    "\n",
    "let lang = \"haskell\"\n",
    "    title = \"top contributing countries, scaled, filterd\"\n",
    "\n",
    "users <- topRepos lang $$ awaitForever repoContributors .| accumulateUniques 100\n",
    "    \n",
    "countries <- userCountries users\n",
    "\n",
    "putStrLn $ \"Users: \" <> show (Set.size users)\n",
    "putStrLn $ \"Countries: \" <> show (Map.size countries)\n",
    "\n",
    "chart (lang <> \" - \" <> title) \n",
    "    . sortOn (negate . snd) \n",
    "-- WRITE FILTERS\n",
    "    . fmap (\\(c, n) -> (c, n / fromIntegral (countryPopulation c)))\n",
    "    . filter ((> 1000000) . countryPopulation . fst)\n",
    "    . fmap (second fromIntegral)\n",
    "    $ Map.toList countries"
   ]
  },
  {
   "cell_type": "code",
   "execution_count": 37,
   "metadata": {},
   "outputs": [
    {
     "data": {
      "text/plain": [
       "True"
      ]
     },
     "metadata": {},
     "output_type": "display_data"
    }
   ],
   "source": [
    "-- WRITE\n",
    "-- jaspervdj\n",
    "-- mb21\n",
    "-- nmattia\n",
    "Set.member \"mb21\" users\n",
    "\n",
    "-- SLIDE LOVE HASKELL\n",
    "-- GITHUB, PANDOC, CONTIRBUTORS\n",
    "-- SLIDE LOVE"
   ]
  },
  {
   "cell_type": "code",
   "execution_count": 40,
   "metadata": {},
   "outputs": [
    {
     "data": {
      "text/html": [
       "<style>/* Styles used for the Hoogle display in the pager */\n",
       ".hoogle-doc {\n",
       "display: block;\n",
       "padding-bottom: 1.3em;\n",
       "padding-left: 0.4em;\n",
       "}\n",
       ".hoogle-code {\n",
       "display: block;\n",
       "font-family: monospace;\n",
       "white-space: pre;\n",
       "}\n",
       ".hoogle-text {\n",
       "display: block;\n",
       "}\n",
       ".hoogle-name {\n",
       "color: green;\n",
       "font-weight: bold;\n",
       "}\n",
       ".hoogle-head {\n",
       "font-weight: bold;\n",
       "}\n",
       ".hoogle-sub {\n",
       "display: block;\n",
       "margin-left: 0.4em;\n",
       "}\n",
       ".hoogle-package {\n",
       "font-weight: bold;\n",
       "font-style: italic;\n",
       "}\n",
       ".hoogle-module {\n",
       "font-weight: bold;\n",
       "}\n",
       ".hoogle-class {\n",
       "font-weight: bold;\n",
       "}\n",
       ".get-type {\n",
       "color: green;\n",
       "font-weight: bold;\n",
       "font-family: monospace;\n",
       "display: block;\n",
       "white-space: pre-wrap;\n",
       "}\n",
       ".show-type {\n",
       "color: green;\n",
       "font-weight: bold;\n",
       "font-family: monospace;\n",
       "margin-left: 1em;\n",
       "}\n",
       ".mono {\n",
       "font-family: monospace;\n",
       "display: block;\n",
       "}\n",
       ".err-msg {\n",
       "color: red;\n",
       "font-style: italic;\n",
       "font-family: monospace;\n",
       "white-space: pre;\n",
       "display: block;\n",
       "}\n",
       "#unshowable {\n",
       "color: red;\n",
       "font-weight: bold;\n",
       "}\n",
       ".err-msg.in.collapse {\n",
       "padding-top: 0.7em;\n",
       "}\n",
       ".highlight-code {\n",
       "white-space: pre;\n",
       "font-family: monospace;\n",
       "}\n",
       ".suggestion-warning { \n",
       "font-weight: bold;\n",
       "color: rgb(200, 130, 0);\n",
       "}\n",
       ".suggestion-error { \n",
       "font-weight: bold;\n",
       "color: red;\n",
       "}\n",
       ".suggestion-name {\n",
       "font-weight: bold;\n",
       "}\n",
       "</style><div class=\"suggestion-name\" style=\"clear:both;\">Functor law</div><div class=\"suggestion-row\" style=\"float: left;\"><div class=\"suggestion-warning\">Found:</div><div class=\"highlight-code\" id=\"haskell\">fmap (\\ (c, n) -> (c, n / fromIntegral (countryPopulation c))) .\n",
       "  fmap (second fromIntegral) .\n",
       "    filter ((> 1000000) . countryPopulation . fst)</div></div><div class=\"suggestion-row\" style=\"float: left;\"><div class=\"suggestion-warning\">Why Not:</div><div class=\"highlight-code\" id=\"haskell\">fmap\n",
       "  ((\\ (c, n) -> (c, n / fromIntegral (countryPopulation c))) .\n",
       "     second fromIntegral)\n",
       "  . filter ((> 1000000) . countryPopulation . fst)</div></div>"
      ],
      "text/plain": [
       "Line 3: Functor law\n",
       "Found:\n",
       "fmap (\\ (c, n) -> (c, n / fromIntegral (countryPopulation c))) .\n",
       "  fmap (second fromIntegral) .\n",
       "    filter ((> 1000000) . countryPopulation . fst)\n",
       "Why not:\n",
       "fmap\n",
       "  ((\\ (c, n) -> (c, n / fromIntegral (countryPopulation c))) .\n",
       "     second fromIntegral)\n",
       "  . filter ((> 1000000) . countryPopulation . fst)"
      ]
     },
     "metadata": {},
     "output_type": "display_data"
    },
    {
     "data": {
      "text/plain": [
       "Users: 3000"
      ]
     },
     "metadata": {},
     "output_type": "display_data"
    },
    {
     "data": {
      "text/plain": [
       "Countries: 74"
      ]
     },
     "metadata": {},
     "output_type": "display_data"
    },
    {
     "data": {
      "image/png": "[encoded data removed]"
     },
     "metadata": {},
     "output_type": "display_data"
    }
   ],
   "source": [
    "-- COPY FROM ABOVE, BUMP accumulateUniques\n",
    "\n",
    "let lang = \"haskell\"\n",
    "    title = \"top contributing countries, scaled, filterd\"\n",
    "\n",
    "users <- topRepos lang $$ awaitForever repoContributors .| accumulateUniques 3000\n",
    "    \n",
    "countries <- userCountries users\n",
    "\n",
    "putStrLn $ \"Users: \" <> show (Set.size users)\n",
    "putStrLn $ \"Countries: \" <> show (Map.size countries)\n",
    "\n",
    "chart (lang <> \" - \" <> title) \n",
    "    . sortOn (negate . snd) \n",
    "    . fmap (\\(c, n) -> (c, n / fromIntegral (countryPopulation c)))\n",
    "    . fmap (second fromIntegral)\n",
    "    . filter ((> 1000000) . countryPopulation . fst)\n",
    "    $ Map.toList countries"
   ]
  },
  {
   "cell_type": "code",
   "execution_count": null,
   "metadata": {},
   "outputs": [],
   "source": [
    "Map.filterWithKey (\\c _ -> countryName c == \"India\") countries -- WRITE"
   ]
  },
  {
   "cell_type": "code",
   "execution_count": null,
   "metadata": {},
   "outputs": [],
   "source": []
  }
 ],
 "metadata": {
  "kernelspec": {
   "display_name": "Haskell",
   "language": "haskell",
   "name": "haskell"
  },
  "language_info": {
   "codemirror_mode": "ihaskell",
   "file_extension": ".hs",
   "name": "haskell",
   "version": "8.2.2"
  }
 },
 "nbformat": 4,
 "nbformat_minor": 2
}
